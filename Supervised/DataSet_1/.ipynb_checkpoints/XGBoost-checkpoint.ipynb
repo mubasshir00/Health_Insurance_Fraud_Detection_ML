{
 "cells": [
  {
   "cell_type": "code",
   "execution_count": 1,
   "id": "4edb1b57-afe4-4a72-9302-751ffd82188a",
   "metadata": {},
   "outputs": [],
   "source": [
    "#https://www.kaggle.com/datasets/rohitrox/healthcare-provider-fraud-detection-analysis"
   ]
  },
  {
   "cell_type": "code",
   "execution_count": 2,
   "id": "d5a070dc-0afe-437a-bd75-74e5c78d54db",
   "metadata": {},
   "outputs": [],
   "source": [
    "# Data manipulation\n",
    "import pandas as pd\n",
    "import numpy as np\n",
    "import time\n",
    "import random\n",
    "import string\n",
    "# Data visualization\n",
    "import matplotlib.pyplot as plt\n",
    "\n",
    "# Model building and evaluation\n",
    "from sklearn.model_selection import train_test_split\n",
    "from sklearn.preprocessing import StandardScaler\n",
    "from sklearn.linear_model import LogisticRegression\n",
    "from xgboost import XGBClassifier\n",
    "from sklearn.metrics import (\n",
    "    classification_report,\n",
    "    confusion_matrix,\n",
    "    roc_auc_score,\n",
    "    roc_curve,\n",
    "    precision_recall_curve,\n",
    "    average_precision_score\n",
    ")\n",
    "\n",
    "# System and warnings\n",
    "import warnings\n",
    "warnings.filterwarnings(\"ignore\")\n",
    "\n",
    "# Display settings for clarity\n",
    "pd.set_option('display.max_columns', None)"
   ]
  },
  {
   "cell_type": "code",
   "execution_count": 3,
   "id": "4470a5e7-9554-48f7-8de2-78b7cd068bd9",
   "metadata": {},
   "outputs": [
    {
     "name": "stdout",
     "output_type": "stream",
     "text": [
      "Main Claim Data:\n"
     ]
    },
    {
     "data": {
      "text/html": [
       "<div>\n",
       "<style scoped>\n",
       "    .dataframe tbody tr th:only-of-type {\n",
       "        vertical-align: middle;\n",
       "    }\n",
       "\n",
       "    .dataframe tbody tr th {\n",
       "        vertical-align: top;\n",
       "    }\n",
       "\n",
       "    .dataframe thead th {\n",
       "        text-align: right;\n",
       "    }\n",
       "</style>\n",
       "<table border=\"1\" class=\"dataframe\">\n",
       "  <thead>\n",
       "    <tr style=\"text-align: right;\">\n",
       "      <th></th>\n",
       "      <th>Provider</th>\n",
       "      <th>PotentialFraud</th>\n",
       "    </tr>\n",
       "  </thead>\n",
       "  <tbody>\n",
       "    <tr>\n",
       "      <th>0</th>\n",
       "      <td>PRV51001</td>\n",
       "      <td>No</td>\n",
       "    </tr>\n",
       "    <tr>\n",
       "      <th>1</th>\n",
       "      <td>PRV51003</td>\n",
       "      <td>Yes</td>\n",
       "    </tr>\n",
       "    <tr>\n",
       "      <th>2</th>\n",
       "      <td>PRV51004</td>\n",
       "      <td>No</td>\n",
       "    </tr>\n",
       "    <tr>\n",
       "      <th>3</th>\n",
       "      <td>PRV51005</td>\n",
       "      <td>Yes</td>\n",
       "    </tr>\n",
       "    <tr>\n",
       "      <th>4</th>\n",
       "      <td>PRV51007</td>\n",
       "      <td>No</td>\n",
       "    </tr>\n",
       "  </tbody>\n",
       "</table>\n",
       "</div>"
      ],
      "text/plain": [
       "   Provider PotentialFraud\n",
       "0  PRV51001             No\n",
       "1  PRV51003            Yes\n",
       "2  PRV51004             No\n",
       "3  PRV51005            Yes\n",
       "4  PRV51007             No"
      ]
     },
     "metadata": {},
     "output_type": "display_data"
    },
    {
     "name": "stdout",
     "output_type": "stream",
     "text": [
      "Beneficiary Data:\n"
     ]
    },
    {
     "data": {
      "text/html": [
       "<div>\n",
       "<style scoped>\n",
       "    .dataframe tbody tr th:only-of-type {\n",
       "        vertical-align: middle;\n",
       "    }\n",
       "\n",
       "    .dataframe tbody tr th {\n",
       "        vertical-align: top;\n",
       "    }\n",
       "\n",
       "    .dataframe thead th {\n",
       "        text-align: right;\n",
       "    }\n",
       "</style>\n",
       "<table border=\"1\" class=\"dataframe\">\n",
       "  <thead>\n",
       "    <tr style=\"text-align: right;\">\n",
       "      <th></th>\n",
       "      <th>BeneID</th>\n",
       "      <th>DOB</th>\n",
       "      <th>DOD</th>\n",
       "      <th>Gender</th>\n",
       "      <th>Race</th>\n",
       "      <th>RenalDiseaseIndicator</th>\n",
       "      <th>State</th>\n",
       "      <th>County</th>\n",
       "      <th>NoOfMonths_PartACov</th>\n",
       "      <th>NoOfMonths_PartBCov</th>\n",
       "      <th>ChronicCond_Alzheimer</th>\n",
       "      <th>ChronicCond_Heartfailure</th>\n",
       "      <th>ChronicCond_KidneyDisease</th>\n",
       "      <th>ChronicCond_Cancer</th>\n",
       "      <th>ChronicCond_ObstrPulmonary</th>\n",
       "      <th>ChronicCond_Depression</th>\n",
       "      <th>ChronicCond_Diabetes</th>\n",
       "      <th>ChronicCond_IschemicHeart</th>\n",
       "      <th>ChronicCond_Osteoporasis</th>\n",
       "      <th>ChronicCond_rheumatoidarthritis</th>\n",
       "      <th>ChronicCond_stroke</th>\n",
       "      <th>IPAnnualReimbursementAmt</th>\n",
       "      <th>IPAnnualDeductibleAmt</th>\n",
       "      <th>OPAnnualReimbursementAmt</th>\n",
       "      <th>OPAnnualDeductibleAmt</th>\n",
       "    </tr>\n",
       "  </thead>\n",
       "  <tbody>\n",
       "    <tr>\n",
       "      <th>0</th>\n",
       "      <td>62c5c5b1ec718a21c397f09c5bc6cf196a741576616275...</td>\n",
       "      <td>1943-01-01</td>\n",
       "      <td>NaN</td>\n",
       "      <td>1</td>\n",
       "      <td>1</td>\n",
       "      <td>0</td>\n",
       "      <td>39</td>\n",
       "      <td>230</td>\n",
       "      <td>12</td>\n",
       "      <td>12</td>\n",
       "      <td>1</td>\n",
       "      <td>2</td>\n",
       "      <td>1</td>\n",
       "      <td>2</td>\n",
       "      <td>2</td>\n",
       "      <td>1</td>\n",
       "      <td>1</td>\n",
       "      <td>1</td>\n",
       "      <td>2</td>\n",
       "      <td>1</td>\n",
       "      <td>1</td>\n",
       "      <td>36000</td>\n",
       "      <td>3204</td>\n",
       "      <td>60</td>\n",
       "      <td>70</td>\n",
       "    </tr>\n",
       "    <tr>\n",
       "      <th>1</th>\n",
       "      <td>d54d44a9fc60d30a8857b1e3cfe24a1c16e5a09a157a3c...</td>\n",
       "      <td>1936-09-01</td>\n",
       "      <td>NaN</td>\n",
       "      <td>2</td>\n",
       "      <td>1</td>\n",
       "      <td>0</td>\n",
       "      <td>39</td>\n",
       "      <td>280</td>\n",
       "      <td>12</td>\n",
       "      <td>12</td>\n",
       "      <td>2</td>\n",
       "      <td>2</td>\n",
       "      <td>2</td>\n",
       "      <td>2</td>\n",
       "      <td>2</td>\n",
       "      <td>2</td>\n",
       "      <td>2</td>\n",
       "      <td>2</td>\n",
       "      <td>2</td>\n",
       "      <td>2</td>\n",
       "      <td>2</td>\n",
       "      <td>0</td>\n",
       "      <td>0</td>\n",
       "      <td>30</td>\n",
       "      <td>50</td>\n",
       "    </tr>\n",
       "    <tr>\n",
       "      <th>2</th>\n",
       "      <td>56ef33518b533a792ae6e471e493e0cefd4792d380c6bd...</td>\n",
       "      <td>1936-08-01</td>\n",
       "      <td>NaN</td>\n",
       "      <td>1</td>\n",
       "      <td>1</td>\n",
       "      <td>0</td>\n",
       "      <td>52</td>\n",
       "      <td>590</td>\n",
       "      <td>12</td>\n",
       "      <td>12</td>\n",
       "      <td>1</td>\n",
       "      <td>2</td>\n",
       "      <td>2</td>\n",
       "      <td>2</td>\n",
       "      <td>2</td>\n",
       "      <td>2</td>\n",
       "      <td>2</td>\n",
       "      <td>1</td>\n",
       "      <td>2</td>\n",
       "      <td>2</td>\n",
       "      <td>2</td>\n",
       "      <td>0</td>\n",
       "      <td>0</td>\n",
       "      <td>90</td>\n",
       "      <td>40</td>\n",
       "    </tr>\n",
       "    <tr>\n",
       "      <th>3</th>\n",
       "      <td>15415122c82e435504290d4f6f476726f0594c577ebac3...</td>\n",
       "      <td>1922-07-01</td>\n",
       "      <td>NaN</td>\n",
       "      <td>1</td>\n",
       "      <td>1</td>\n",
       "      <td>0</td>\n",
       "      <td>39</td>\n",
       "      <td>270</td>\n",
       "      <td>12</td>\n",
       "      <td>12</td>\n",
       "      <td>1</td>\n",
       "      <td>1</td>\n",
       "      <td>2</td>\n",
       "      <td>2</td>\n",
       "      <td>2</td>\n",
       "      <td>2</td>\n",
       "      <td>1</td>\n",
       "      <td>1</td>\n",
       "      <td>1</td>\n",
       "      <td>1</td>\n",
       "      <td>2</td>\n",
       "      <td>0</td>\n",
       "      <td>0</td>\n",
       "      <td>1810</td>\n",
       "      <td>760</td>\n",
       "    </tr>\n",
       "    <tr>\n",
       "      <th>4</th>\n",
       "      <td>43ad0b2a7221cd758f9e36b8696b322aa2b1a534185593...</td>\n",
       "      <td>1935-09-01</td>\n",
       "      <td>NaN</td>\n",
       "      <td>1</td>\n",
       "      <td>1</td>\n",
       "      <td>0</td>\n",
       "      <td>24</td>\n",
       "      <td>680</td>\n",
       "      <td>12</td>\n",
       "      <td>12</td>\n",
       "      <td>2</td>\n",
       "      <td>2</td>\n",
       "      <td>2</td>\n",
       "      <td>2</td>\n",
       "      <td>1</td>\n",
       "      <td>2</td>\n",
       "      <td>1</td>\n",
       "      <td>2</td>\n",
       "      <td>2</td>\n",
       "      <td>2</td>\n",
       "      <td>2</td>\n",
       "      <td>0</td>\n",
       "      <td>0</td>\n",
       "      <td>1790</td>\n",
       "      <td>1200</td>\n",
       "    </tr>\n",
       "  </tbody>\n",
       "</table>\n",
       "</div>"
      ],
      "text/plain": [
       "                                              BeneID         DOB  DOD  Gender  \\\n",
       "0  62c5c5b1ec718a21c397f09c5bc6cf196a741576616275...  1943-01-01  NaN       1   \n",
       "1  d54d44a9fc60d30a8857b1e3cfe24a1c16e5a09a157a3c...  1936-09-01  NaN       2   \n",
       "2  56ef33518b533a792ae6e471e493e0cefd4792d380c6bd...  1936-08-01  NaN       1   \n",
       "3  15415122c82e435504290d4f6f476726f0594c577ebac3...  1922-07-01  NaN       1   \n",
       "4  43ad0b2a7221cd758f9e36b8696b322aa2b1a534185593...  1935-09-01  NaN       1   \n",
       "\n",
       "   Race RenalDiseaseIndicator  State  County  NoOfMonths_PartACov  \\\n",
       "0     1                     0     39     230                   12   \n",
       "1     1                     0     39     280                   12   \n",
       "2     1                     0     52     590                   12   \n",
       "3     1                     0     39     270                   12   \n",
       "4     1                     0     24     680                   12   \n",
       "\n",
       "   NoOfMonths_PartBCov  ChronicCond_Alzheimer  ChronicCond_Heartfailure  \\\n",
       "0                   12                      1                         2   \n",
       "1                   12                      2                         2   \n",
       "2                   12                      1                         2   \n",
       "3                   12                      1                         1   \n",
       "4                   12                      2                         2   \n",
       "\n",
       "   ChronicCond_KidneyDisease  ChronicCond_Cancer  ChronicCond_ObstrPulmonary  \\\n",
       "0                          1                   2                           2   \n",
       "1                          2                   2                           2   \n",
       "2                          2                   2                           2   \n",
       "3                          2                   2                           2   \n",
       "4                          2                   2                           1   \n",
       "\n",
       "   ChronicCond_Depression  ChronicCond_Diabetes  ChronicCond_IschemicHeart  \\\n",
       "0                       1                     1                          1   \n",
       "1                       2                     2                          2   \n",
       "2                       2                     2                          1   \n",
       "3                       2                     1                          1   \n",
       "4                       2                     1                          2   \n",
       "\n",
       "   ChronicCond_Osteoporasis  ChronicCond_rheumatoidarthritis  \\\n",
       "0                         2                                1   \n",
       "1                         2                                2   \n",
       "2                         2                                2   \n",
       "3                         1                                1   \n",
       "4                         2                                2   \n",
       "\n",
       "   ChronicCond_stroke  IPAnnualReimbursementAmt  IPAnnualDeductibleAmt  \\\n",
       "0                   1                     36000                   3204   \n",
       "1                   2                         0                      0   \n",
       "2                   2                         0                      0   \n",
       "3                   2                         0                      0   \n",
       "4                   2                         0                      0   \n",
       "\n",
       "   OPAnnualReimbursementAmt  OPAnnualDeductibleAmt  \n",
       "0                        60                     70  \n",
       "1                        30                     50  \n",
       "2                        90                     40  \n",
       "3                      1810                    760  \n",
       "4                      1790                   1200  "
      ]
     },
     "metadata": {},
     "output_type": "display_data"
    },
    {
     "name": "stdout",
     "output_type": "stream",
     "text": [
      "Inpatient Data:\n"
     ]
    },
    {
     "data": {
      "text/html": [
       "<div>\n",
       "<style scoped>\n",
       "    .dataframe tbody tr th:only-of-type {\n",
       "        vertical-align: middle;\n",
       "    }\n",
       "\n",
       "    .dataframe tbody tr th {\n",
       "        vertical-align: top;\n",
       "    }\n",
       "\n",
       "    .dataframe thead th {\n",
       "        text-align: right;\n",
       "    }\n",
       "</style>\n",
       "<table border=\"1\" class=\"dataframe\">\n",
       "  <thead>\n",
       "    <tr style=\"text-align: right;\">\n",
       "      <th></th>\n",
       "      <th>BeneID</th>\n",
       "      <th>ClaimID</th>\n",
       "      <th>ClaimStartDt</th>\n",
       "      <th>ClaimEndDt</th>\n",
       "      <th>Provider</th>\n",
       "      <th>InscClaimAmtReimbursed</th>\n",
       "      <th>AttendingPhysician</th>\n",
       "      <th>OperatingPhysician</th>\n",
       "      <th>OtherPhysician</th>\n",
       "      <th>AdmissionDt</th>\n",
       "      <th>ClmAdmitDiagnosisCode</th>\n",
       "      <th>DeductibleAmtPaid</th>\n",
       "      <th>DischargeDt</th>\n",
       "      <th>DiagnosisGroupCode</th>\n",
       "      <th>ClmDiagnosisCode_1</th>\n",
       "      <th>ClmDiagnosisCode_2</th>\n",
       "      <th>ClmDiagnosisCode_3</th>\n",
       "      <th>ClmDiagnosisCode_4</th>\n",
       "      <th>ClmDiagnosisCode_5</th>\n",
       "      <th>ClmDiagnosisCode_6</th>\n",
       "      <th>ClmDiagnosisCode_7</th>\n",
       "      <th>ClmDiagnosisCode_8</th>\n",
       "      <th>ClmDiagnosisCode_9</th>\n",
       "      <th>ClmDiagnosisCode_10</th>\n",
       "      <th>ClmProcedureCode_1</th>\n",
       "      <th>ClmProcedureCode_2</th>\n",
       "      <th>ClmProcedureCode_3</th>\n",
       "      <th>ClmProcedureCode_4</th>\n",
       "      <th>ClmProcedureCode_5</th>\n",
       "      <th>ClmProcedureCode_6</th>\n",
       "    </tr>\n",
       "  </thead>\n",
       "  <tbody>\n",
       "    <tr>\n",
       "      <th>0</th>\n",
       "      <td>62c5c5b1ec718a21c397f09c5bc6cf196a741576616275...</td>\n",
       "      <td>dd21878044b6d4b8c1e0fb7534a38acbe3cb0ef29e6375...</td>\n",
       "      <td>2009-04-12</td>\n",
       "      <td>2009-04-18</td>\n",
       "      <td>PRV55912</td>\n",
       "      <td>26000</td>\n",
       "      <td>PHY390922</td>\n",
       "      <td>NaN</td>\n",
       "      <td>NaN</td>\n",
       "      <td>2009-04-12</td>\n",
       "      <td>7866</td>\n",
       "      <td>1068.0</td>\n",
       "      <td>2009-04-18</td>\n",
       "      <td>201</td>\n",
       "      <td>1970</td>\n",
       "      <td>4019</td>\n",
       "      <td>5853</td>\n",
       "      <td>7843</td>\n",
       "      <td>2768</td>\n",
       "      <td>71590</td>\n",
       "      <td>2724</td>\n",
       "      <td>19889</td>\n",
       "      <td>5849</td>\n",
       "      <td>NaN</td>\n",
       "      <td>NaN</td>\n",
       "      <td>NaN</td>\n",
       "      <td>NaN</td>\n",
       "      <td>NaN</td>\n",
       "      <td>NaN</td>\n",
       "      <td>NaN</td>\n",
       "    </tr>\n",
       "    <tr>\n",
       "      <th>1</th>\n",
       "      <td>62c5c5b1ec718a21c397f09c5bc6cf196a741576616275...</td>\n",
       "      <td>1e3d2b1b6782fd037885e04b81796ae07524283a612bac...</td>\n",
       "      <td>2009-08-31</td>\n",
       "      <td>2009-09-02</td>\n",
       "      <td>PRV55907</td>\n",
       "      <td>5000</td>\n",
       "      <td>PHY318495</td>\n",
       "      <td>PHY318495</td>\n",
       "      <td>NaN</td>\n",
       "      <td>2009-08-31</td>\n",
       "      <td>6186</td>\n",
       "      <td>1068.0</td>\n",
       "      <td>2009-09-02</td>\n",
       "      <td>750</td>\n",
       "      <td>6186</td>\n",
       "      <td>2948</td>\n",
       "      <td>56400</td>\n",
       "      <td>NaN</td>\n",
       "      <td>NaN</td>\n",
       "      <td>NaN</td>\n",
       "      <td>NaN</td>\n",
       "      <td>NaN</td>\n",
       "      <td>NaN</td>\n",
       "      <td>NaN</td>\n",
       "      <td>7092.0</td>\n",
       "      <td>NaN</td>\n",
       "      <td>NaN</td>\n",
       "      <td>NaN</td>\n",
       "      <td>NaN</td>\n",
       "      <td>NaN</td>\n",
       "    </tr>\n",
       "    <tr>\n",
       "      <th>2</th>\n",
       "      <td>62c5c5b1ec718a21c397f09c5bc6cf196a741576616275...</td>\n",
       "      <td>5d5acf65d788c49d586064959a80604d9e3695b1a1c1fa...</td>\n",
       "      <td>2009-09-17</td>\n",
       "      <td>2009-09-20</td>\n",
       "      <td>PRV56046</td>\n",
       "      <td>5000</td>\n",
       "      <td>PHY372395</td>\n",
       "      <td>NaN</td>\n",
       "      <td>PHY324689</td>\n",
       "      <td>2009-09-17</td>\n",
       "      <td>29590</td>\n",
       "      <td>1068.0</td>\n",
       "      <td>2009-09-20</td>\n",
       "      <td>883</td>\n",
       "      <td>29623</td>\n",
       "      <td>30390</td>\n",
       "      <td>71690</td>\n",
       "      <td>34590</td>\n",
       "      <td>V1581</td>\n",
       "      <td>32723</td>\n",
       "      <td>NaN</td>\n",
       "      <td>NaN</td>\n",
       "      <td>NaN</td>\n",
       "      <td>NaN</td>\n",
       "      <td>NaN</td>\n",
       "      <td>NaN</td>\n",
       "      <td>NaN</td>\n",
       "      <td>NaN</td>\n",
       "      <td>NaN</td>\n",
       "      <td>NaN</td>\n",
       "    </tr>\n",
       "    <tr>\n",
       "      <th>3</th>\n",
       "      <td>89be34d4df0f5df66aa10a3743b6a3906bb574062bd11b...</td>\n",
       "      <td>497c7f708172aeb37630900e6541e05bd71422f2eed3c9...</td>\n",
       "      <td>2009-02-14</td>\n",
       "      <td>2009-02-22</td>\n",
       "      <td>PRV52405</td>\n",
       "      <td>5000</td>\n",
       "      <td>PHY369659</td>\n",
       "      <td>PHY392961</td>\n",
       "      <td>PHY349768</td>\n",
       "      <td>2009-02-14</td>\n",
       "      <td>431</td>\n",
       "      <td>1068.0</td>\n",
       "      <td>2009-02-22</td>\n",
       "      <td>067</td>\n",
       "      <td>43491</td>\n",
       "      <td>2762</td>\n",
       "      <td>7843</td>\n",
       "      <td>32723</td>\n",
       "      <td>V1041</td>\n",
       "      <td>4254</td>\n",
       "      <td>25062</td>\n",
       "      <td>40390</td>\n",
       "      <td>4019</td>\n",
       "      <td>NaN</td>\n",
       "      <td>331.0</td>\n",
       "      <td>NaN</td>\n",
       "      <td>NaN</td>\n",
       "      <td>NaN</td>\n",
       "      <td>NaN</td>\n",
       "      <td>NaN</td>\n",
       "    </tr>\n",
       "    <tr>\n",
       "      <th>4</th>\n",
       "      <td>33cef30994eea7f643202d4a0413ef92894f699739e3d7...</td>\n",
       "      <td>9bba19961169ed30292a19ad77f89c4a4e69c891ea56dd...</td>\n",
       "      <td>2009-08-13</td>\n",
       "      <td>2009-08-30</td>\n",
       "      <td>PRV56614</td>\n",
       "      <td>10000</td>\n",
       "      <td>PHY379376</td>\n",
       "      <td>PHY398258</td>\n",
       "      <td>NaN</td>\n",
       "      <td>2009-08-13</td>\n",
       "      <td>78321</td>\n",
       "      <td>1068.0</td>\n",
       "      <td>2009-08-30</td>\n",
       "      <td>975</td>\n",
       "      <td>042</td>\n",
       "      <td>3051</td>\n",
       "      <td>34400</td>\n",
       "      <td>5856</td>\n",
       "      <td>42732</td>\n",
       "      <td>486</td>\n",
       "      <td>5119</td>\n",
       "      <td>29620</td>\n",
       "      <td>20300</td>\n",
       "      <td>NaN</td>\n",
       "      <td>3893.0</td>\n",
       "      <td>NaN</td>\n",
       "      <td>NaN</td>\n",
       "      <td>NaN</td>\n",
       "      <td>NaN</td>\n",
       "      <td>NaN</td>\n",
       "    </tr>\n",
       "  </tbody>\n",
       "</table>\n",
       "</div>"
      ],
      "text/plain": [
       "                                              BeneID  \\\n",
       "0  62c5c5b1ec718a21c397f09c5bc6cf196a741576616275...   \n",
       "1  62c5c5b1ec718a21c397f09c5bc6cf196a741576616275...   \n",
       "2  62c5c5b1ec718a21c397f09c5bc6cf196a741576616275...   \n",
       "3  89be34d4df0f5df66aa10a3743b6a3906bb574062bd11b...   \n",
       "4  33cef30994eea7f643202d4a0413ef92894f699739e3d7...   \n",
       "\n",
       "                                             ClaimID ClaimStartDt  ClaimEndDt  \\\n",
       "0  dd21878044b6d4b8c1e0fb7534a38acbe3cb0ef29e6375...   2009-04-12  2009-04-18   \n",
       "1  1e3d2b1b6782fd037885e04b81796ae07524283a612bac...   2009-08-31  2009-09-02   \n",
       "2  5d5acf65d788c49d586064959a80604d9e3695b1a1c1fa...   2009-09-17  2009-09-20   \n",
       "3  497c7f708172aeb37630900e6541e05bd71422f2eed3c9...   2009-02-14  2009-02-22   \n",
       "4  9bba19961169ed30292a19ad77f89c4a4e69c891ea56dd...   2009-08-13  2009-08-30   \n",
       "\n",
       "   Provider  InscClaimAmtReimbursed AttendingPhysician OperatingPhysician  \\\n",
       "0  PRV55912                   26000          PHY390922                NaN   \n",
       "1  PRV55907                    5000          PHY318495          PHY318495   \n",
       "2  PRV56046                    5000          PHY372395                NaN   \n",
       "3  PRV52405                    5000          PHY369659          PHY392961   \n",
       "4  PRV56614                   10000          PHY379376          PHY398258   \n",
       "\n",
       "  OtherPhysician AdmissionDt ClmAdmitDiagnosisCode  DeductibleAmtPaid  \\\n",
       "0            NaN  2009-04-12                  7866             1068.0   \n",
       "1            NaN  2009-08-31                  6186             1068.0   \n",
       "2      PHY324689  2009-09-17                 29590             1068.0   \n",
       "3      PHY349768  2009-02-14                   431             1068.0   \n",
       "4            NaN  2009-08-13                 78321             1068.0   \n",
       "\n",
       "  DischargeDt DiagnosisGroupCode ClmDiagnosisCode_1 ClmDiagnosisCode_2  \\\n",
       "0  2009-04-18                201               1970               4019   \n",
       "1  2009-09-02                750               6186               2948   \n",
       "2  2009-09-20                883              29623              30390   \n",
       "3  2009-02-22                067              43491               2762   \n",
       "4  2009-08-30                975                042               3051   \n",
       "\n",
       "  ClmDiagnosisCode_3 ClmDiagnosisCode_4 ClmDiagnosisCode_5 ClmDiagnosisCode_6  \\\n",
       "0               5853               7843               2768              71590   \n",
       "1              56400                NaN                NaN                NaN   \n",
       "2              71690              34590              V1581              32723   \n",
       "3               7843              32723              V1041               4254   \n",
       "4              34400               5856              42732                486   \n",
       "\n",
       "  ClmDiagnosisCode_7 ClmDiagnosisCode_8 ClmDiagnosisCode_9  \\\n",
       "0               2724              19889               5849   \n",
       "1                NaN                NaN                NaN   \n",
       "2                NaN                NaN                NaN   \n",
       "3              25062              40390               4019   \n",
       "4               5119              29620              20300   \n",
       "\n",
       "  ClmDiagnosisCode_10  ClmProcedureCode_1  ClmProcedureCode_2  \\\n",
       "0                 NaN                 NaN                 NaN   \n",
       "1                 NaN              7092.0                 NaN   \n",
       "2                 NaN                 NaN                 NaN   \n",
       "3                 NaN               331.0                 NaN   \n",
       "4                 NaN              3893.0                 NaN   \n",
       "\n",
       "   ClmProcedureCode_3  ClmProcedureCode_4  ClmProcedureCode_5  \\\n",
       "0                 NaN                 NaN                 NaN   \n",
       "1                 NaN                 NaN                 NaN   \n",
       "2                 NaN                 NaN                 NaN   \n",
       "3                 NaN                 NaN                 NaN   \n",
       "4                 NaN                 NaN                 NaN   \n",
       "\n",
       "   ClmProcedureCode_6  \n",
       "0                 NaN  \n",
       "1                 NaN  \n",
       "2                 NaN  \n",
       "3                 NaN  \n",
       "4                 NaN  "
      ]
     },
     "metadata": {},
     "output_type": "display_data"
    },
    {
     "name": "stdout",
     "output_type": "stream",
     "text": [
      "Outpatient Data:\n"
     ]
    },
    {
     "data": {
      "text/html": [
       "<div>\n",
       "<style scoped>\n",
       "    .dataframe tbody tr th:only-of-type {\n",
       "        vertical-align: middle;\n",
       "    }\n",
       "\n",
       "    .dataframe tbody tr th {\n",
       "        vertical-align: top;\n",
       "    }\n",
       "\n",
       "    .dataframe thead th {\n",
       "        text-align: right;\n",
       "    }\n",
       "</style>\n",
       "<table border=\"1\" class=\"dataframe\">\n",
       "  <thead>\n",
       "    <tr style=\"text-align: right;\">\n",
       "      <th></th>\n",
       "      <th>BeneID</th>\n",
       "      <th>ClaimID</th>\n",
       "      <th>ClaimStartDt</th>\n",
       "      <th>ClaimEndDt</th>\n",
       "      <th>Provider</th>\n",
       "      <th>InscClaimAmtReimbursed</th>\n",
       "      <th>AttendingPhysician</th>\n",
       "      <th>OperatingPhysician</th>\n",
       "      <th>OtherPhysician</th>\n",
       "      <th>ClmDiagnosisCode_1</th>\n",
       "      <th>ClmDiagnosisCode_2</th>\n",
       "      <th>ClmDiagnosisCode_3</th>\n",
       "      <th>ClmDiagnosisCode_4</th>\n",
       "      <th>ClmDiagnosisCode_5</th>\n",
       "      <th>ClmDiagnosisCode_6</th>\n",
       "      <th>ClmDiagnosisCode_7</th>\n",
       "      <th>ClmDiagnosisCode_8</th>\n",
       "      <th>ClmDiagnosisCode_9</th>\n",
       "      <th>ClmDiagnosisCode_10</th>\n",
       "      <th>ClmProcedureCode_1</th>\n",
       "      <th>ClmProcedureCode_2</th>\n",
       "      <th>ClmProcedureCode_3</th>\n",
       "      <th>ClmProcedureCode_4</th>\n",
       "      <th>ClmProcedureCode_5</th>\n",
       "      <th>ClmProcedureCode_6</th>\n",
       "      <th>DeductibleAmtPaid</th>\n",
       "      <th>ClmAdmitDiagnosisCode</th>\n",
       "    </tr>\n",
       "  </thead>\n",
       "  <tbody>\n",
       "    <tr>\n",
       "      <th>0</th>\n",
       "      <td>d54d44a9fc60d30a8857b1e3cfe24a1c16e5a09a157a3c...</td>\n",
       "      <td>d5ea881d5e0e35db1edebf011ee63c9ad9a21ae3470ffe...</td>\n",
       "      <td>2009-10-11</td>\n",
       "      <td>2009-10-11</td>\n",
       "      <td>PRV56011</td>\n",
       "      <td>30</td>\n",
       "      <td>PHY326117</td>\n",
       "      <td>NaN</td>\n",
       "      <td>NaN</td>\n",
       "      <td>78943</td>\n",
       "      <td>V5866</td>\n",
       "      <td>V1272</td>\n",
       "      <td>NaN</td>\n",
       "      <td>NaN</td>\n",
       "      <td>NaN</td>\n",
       "      <td>NaN</td>\n",
       "      <td>NaN</td>\n",
       "      <td>NaN</td>\n",
       "      <td>NaN</td>\n",
       "      <td>NaN</td>\n",
       "      <td>NaN</td>\n",
       "      <td>NaN</td>\n",
       "      <td>NaN</td>\n",
       "      <td>NaN</td>\n",
       "      <td>NaN</td>\n",
       "      <td>0</td>\n",
       "      <td>56409</td>\n",
       "    </tr>\n",
       "    <tr>\n",
       "      <th>1</th>\n",
       "      <td>56ef33518b533a792ae6e471e493e0cefd4792d380c6bd...</td>\n",
       "      <td>699ae13fa3cfcc979002e48e86e86cd7397e648e765208...</td>\n",
       "      <td>2009-02-12</td>\n",
       "      <td>2009-02-12</td>\n",
       "      <td>PRV57610</td>\n",
       "      <td>80</td>\n",
       "      <td>PHY362868</td>\n",
       "      <td>NaN</td>\n",
       "      <td>NaN</td>\n",
       "      <td>6115</td>\n",
       "      <td>NaN</td>\n",
       "      <td>NaN</td>\n",
       "      <td>NaN</td>\n",
       "      <td>NaN</td>\n",
       "      <td>NaN</td>\n",
       "      <td>NaN</td>\n",
       "      <td>NaN</td>\n",
       "      <td>NaN</td>\n",
       "      <td>NaN</td>\n",
       "      <td>NaN</td>\n",
       "      <td>NaN</td>\n",
       "      <td>NaN</td>\n",
       "      <td>NaN</td>\n",
       "      <td>NaN</td>\n",
       "      <td>NaN</td>\n",
       "      <td>0</td>\n",
       "      <td>79380</td>\n",
       "    </tr>\n",
       "    <tr>\n",
       "      <th>2</th>\n",
       "      <td>56ef33518b533a792ae6e471e493e0cefd4792d380c6bd...</td>\n",
       "      <td>3a00c94187a029d983108d002147b0679a0dce4a08d68a...</td>\n",
       "      <td>2009-06-27</td>\n",
       "      <td>2009-06-27</td>\n",
       "      <td>PRV57595</td>\n",
       "      <td>10</td>\n",
       "      <td>PHY328821</td>\n",
       "      <td>NaN</td>\n",
       "      <td>NaN</td>\n",
       "      <td>2723</td>\n",
       "      <td>NaN</td>\n",
       "      <td>NaN</td>\n",
       "      <td>NaN</td>\n",
       "      <td>NaN</td>\n",
       "      <td>NaN</td>\n",
       "      <td>NaN</td>\n",
       "      <td>NaN</td>\n",
       "      <td>NaN</td>\n",
       "      <td>NaN</td>\n",
       "      <td>NaN</td>\n",
       "      <td>NaN</td>\n",
       "      <td>NaN</td>\n",
       "      <td>NaN</td>\n",
       "      <td>NaN</td>\n",
       "      <td>NaN</td>\n",
       "      <td>0</td>\n",
       "      <td>NaN</td>\n",
       "    </tr>\n",
       "    <tr>\n",
       "      <th>3</th>\n",
       "      <td>15415122c82e435504290d4f6f476726f0594c577ebac3...</td>\n",
       "      <td>fd988acaa93b29898afaf73c20ab55f4e5e348b5abba4c...</td>\n",
       "      <td>2009-01-06</td>\n",
       "      <td>2009-01-06</td>\n",
       "      <td>PRV56011</td>\n",
       "      <td>40</td>\n",
       "      <td>PHY334319</td>\n",
       "      <td>NaN</td>\n",
       "      <td>NaN</td>\n",
       "      <td>71988</td>\n",
       "      <td>NaN</td>\n",
       "      <td>NaN</td>\n",
       "      <td>NaN</td>\n",
       "      <td>NaN</td>\n",
       "      <td>NaN</td>\n",
       "      <td>NaN</td>\n",
       "      <td>NaN</td>\n",
       "      <td>NaN</td>\n",
       "      <td>NaN</td>\n",
       "      <td>NaN</td>\n",
       "      <td>NaN</td>\n",
       "      <td>NaN</td>\n",
       "      <td>NaN</td>\n",
       "      <td>NaN</td>\n",
       "      <td>NaN</td>\n",
       "      <td>0</td>\n",
       "      <td>NaN</td>\n",
       "    </tr>\n",
       "    <tr>\n",
       "      <th>4</th>\n",
       "      <td>15415122c82e435504290d4f6f476726f0594c577ebac3...</td>\n",
       "      <td>0890387e8f43034e622db7a776bf417f95c04fb0fced0b...</td>\n",
       "      <td>2009-01-22</td>\n",
       "      <td>2009-01-22</td>\n",
       "      <td>PRV56011</td>\n",
       "      <td>200</td>\n",
       "      <td>PHY403831</td>\n",
       "      <td>NaN</td>\n",
       "      <td>NaN</td>\n",
       "      <td>82382</td>\n",
       "      <td>30000</td>\n",
       "      <td>72887</td>\n",
       "      <td>4280</td>\n",
       "      <td>7197</td>\n",
       "      <td>V4577</td>\n",
       "      <td>NaN</td>\n",
       "      <td>NaN</td>\n",
       "      <td>NaN</td>\n",
       "      <td>NaN</td>\n",
       "      <td>NaN</td>\n",
       "      <td>NaN</td>\n",
       "      <td>NaN</td>\n",
       "      <td>NaN</td>\n",
       "      <td>NaN</td>\n",
       "      <td>NaN</td>\n",
       "      <td>0</td>\n",
       "      <td>71947</td>\n",
       "    </tr>\n",
       "  </tbody>\n",
       "</table>\n",
       "</div>"
      ],
      "text/plain": [
       "                                              BeneID  \\\n",
       "0  d54d44a9fc60d30a8857b1e3cfe24a1c16e5a09a157a3c...   \n",
       "1  56ef33518b533a792ae6e471e493e0cefd4792d380c6bd...   \n",
       "2  56ef33518b533a792ae6e471e493e0cefd4792d380c6bd...   \n",
       "3  15415122c82e435504290d4f6f476726f0594c577ebac3...   \n",
       "4  15415122c82e435504290d4f6f476726f0594c577ebac3...   \n",
       "\n",
       "                                             ClaimID ClaimStartDt  ClaimEndDt  \\\n",
       "0  d5ea881d5e0e35db1edebf011ee63c9ad9a21ae3470ffe...   2009-10-11  2009-10-11   \n",
       "1  699ae13fa3cfcc979002e48e86e86cd7397e648e765208...   2009-02-12  2009-02-12   \n",
       "2  3a00c94187a029d983108d002147b0679a0dce4a08d68a...   2009-06-27  2009-06-27   \n",
       "3  fd988acaa93b29898afaf73c20ab55f4e5e348b5abba4c...   2009-01-06  2009-01-06   \n",
       "4  0890387e8f43034e622db7a776bf417f95c04fb0fced0b...   2009-01-22  2009-01-22   \n",
       "\n",
       "   Provider  InscClaimAmtReimbursed AttendingPhysician OperatingPhysician  \\\n",
       "0  PRV56011                      30          PHY326117                NaN   \n",
       "1  PRV57610                      80          PHY362868                NaN   \n",
       "2  PRV57595                      10          PHY328821                NaN   \n",
       "3  PRV56011                      40          PHY334319                NaN   \n",
       "4  PRV56011                     200          PHY403831                NaN   \n",
       "\n",
       "  OtherPhysician ClmDiagnosisCode_1 ClmDiagnosisCode_2 ClmDiagnosisCode_3  \\\n",
       "0            NaN              78943              V5866              V1272   \n",
       "1            NaN               6115                NaN                NaN   \n",
       "2            NaN               2723                NaN                NaN   \n",
       "3            NaN              71988                NaN                NaN   \n",
       "4            NaN              82382              30000              72887   \n",
       "\n",
       "  ClmDiagnosisCode_4 ClmDiagnosisCode_5 ClmDiagnosisCode_6 ClmDiagnosisCode_7  \\\n",
       "0                NaN                NaN                NaN                NaN   \n",
       "1                NaN                NaN                NaN                NaN   \n",
       "2                NaN                NaN                NaN                NaN   \n",
       "3                NaN                NaN                NaN                NaN   \n",
       "4               4280               7197              V4577                NaN   \n",
       "\n",
       "  ClmDiagnosisCode_8 ClmDiagnosisCode_9 ClmDiagnosisCode_10  \\\n",
       "0                NaN                NaN                 NaN   \n",
       "1                NaN                NaN                 NaN   \n",
       "2                NaN                NaN                 NaN   \n",
       "3                NaN                NaN                 NaN   \n",
       "4                NaN                NaN                 NaN   \n",
       "\n",
       "   ClmProcedureCode_1  ClmProcedureCode_2  ClmProcedureCode_3  \\\n",
       "0                 NaN                 NaN                 NaN   \n",
       "1                 NaN                 NaN                 NaN   \n",
       "2                 NaN                 NaN                 NaN   \n",
       "3                 NaN                 NaN                 NaN   \n",
       "4                 NaN                 NaN                 NaN   \n",
       "\n",
       "   ClmProcedureCode_4  ClmProcedureCode_5  ClmProcedureCode_6  \\\n",
       "0                 NaN                 NaN                 NaN   \n",
       "1                 NaN                 NaN                 NaN   \n",
       "2                 NaN                 NaN                 NaN   \n",
       "3                 NaN                 NaN                 NaN   \n",
       "4                 NaN                 NaN                 NaN   \n",
       "\n",
       "   DeductibleAmtPaid ClmAdmitDiagnosisCode  \n",
       "0                  0                 56409  \n",
       "1                  0                 79380  \n",
       "2                  0                   NaN  \n",
       "3                  0                   NaN  \n",
       "4                  0                 71947  "
      ]
     },
     "metadata": {},
     "output_type": "display_data"
    },
    {
     "name": "stdout",
     "output_type": "stream",
     "text": [
      "Main Claim Shape: (5410, 2)\n",
      "Beneficiary Shape: (138556, 25)\n",
      "Inpatient Shape: (40474, 30)\n",
      "Outpatient Shape: (517737, 27)\n"
     ]
    }
   ],
   "source": [
    "# Load the datasets into DataFrames\n",
    "main_claim_df = pd.read_csv(\"/home/mubasshir/Desktop/Research/Insurance/Anonymized_dataset/Anonymized_Train-1542865627584.csv\")\n",
    "beneficiary_df = pd.read_csv(\"/home/mubasshir/Desktop/Research/Insurance/Anonymized_dataset/Anonymized_Train_Beneficiarydata.csv\")\n",
    "inpatient_df = pd.read_csv(\"/home/mubasshir/Desktop/Research/Insurance/Anonymized_dataset/Anonymized_Train_Inpatientdata.csv\")\n",
    "outpatient_df = pd.read_csv(\"/home/mubasshir/Desktop/Research/Insurance/Anonymized_dataset/Anonymized_Train_Outpatientdata.csv\")\n",
    "\n",
    "# Display top rows to confirm successful loading\n",
    "print(\"Main Claim Data:\")\n",
    "display(main_claim_df.head())\n",
    "\n",
    "print(\"Beneficiary Data:\")\n",
    "display(beneficiary_df.head())\n",
    "\n",
    "print(\"Inpatient Data:\")\n",
    "display(inpatient_df.head())\n",
    "\n",
    "print(\"Outpatient Data:\")\n",
    "display(outpatient_df.head())\n",
    "\n",
    "# Check data shapes for clarity\n",
    "print(f\"Main Claim Shape: {main_claim_df.shape}\")  #(row , column)\n",
    "print(f\"Beneficiary Shape: {beneficiary_df.shape}\") #(row , column)\n",
    "print(f\"Inpatient Shape: {inpatient_df.shape}\") #(row , column)\n",
    "print(f\"Outpatient Shape: {outpatient_df.shape}\") #(row , column)"
   ]
  },
  {
   "cell_type": "code",
   "execution_count": 4,
   "id": "7369f564-3382-4acb-b64c-adee4d90353b",
   "metadata": {},
   "outputs": [],
   "source": [
    "#Exploratory Data Analysis (EDA)"
   ]
  },
  {
   "cell_type": "code",
   "execution_count": 5,
   "id": "2f395a0b-11b8-4316-b232-0844cccb8263",
   "metadata": {},
   "outputs": [],
   "source": [
    "def explore(df, name):\n",
    "    print(f\"\\n🔹 {name} Info\")\n",
    "    print(df.info())\n",
    "    print(f\"\\n🔹 {name} Summary Statistics\")\n",
    "    print(df.describe(include='all').transpose())\n",
    "    print(f\"\\n🔹 {name} Null Value Counts\")\n",
    "    print(df.isnull().sum())\n",
    "\n",
    "# EDA for each dataset\n",
    "# explore(main_claim_df, \"Main Claim Data\")\n",
    "# explore(beneficiary_df, \"Beneficiary Data\")\n",
    "# explore(inpatient_df, \"Inpatient Data\")\n",
    "# explore(outpatient_df, \"Outpatient Data\")\n",
    "\n",
    "# Optional: Check target class distribution\n",
    "# print(\"\\n🎯 PotentialFraud Distribution:\")\n",
    "# print(main_claim_df['PotentialFraud'].value_counts(normalize=True))"
   ]
  },
  {
   "cell_type": "code",
   "execution_count": 6,
   "id": "2ccecd04-297d-47f7-9725-99c829a669b5",
   "metadata": {},
   "outputs": [
    {
     "name": "stdout",
     "output_type": "stream",
     "text": [
      "Check Target Variable Distribution\n",
      "PotentialFraud\n",
      "No     4904\n",
      "Yes     506\n",
      "Name: count, dtype: int64\n"
     ]
    }
   ],
   "source": [
    "print(\"Check Target Variable Distribution\")\n",
    "print(main_claim_df['PotentialFraud'].value_counts())"
   ]
  },
  {
   "cell_type": "code",
   "execution_count": 7,
   "id": "e7a84c90-ce75-47b5-b55b-f7a0f9165b43",
   "metadata": {},
   "outputs": [
    {
     "name": "stdout",
     "output_type": "stream",
     "text": [
      "\n",
      "🔸 Missing Values in Main Claim Data:\n",
      "No missing values.\n",
      "\n",
      "🔸 Missing Values in Beneficiary Data:\n",
      "DOD    137135\n",
      "dtype: int64\n",
      "\n",
      "🔸 Missing Values in Inpatient Data:\n",
      "ClmProcedureCode_6     40474\n",
      "ClmProcedureCode_5     40465\n",
      "ClmProcedureCode_4     40358\n",
      "ClmProcedureCode_3     39509\n",
      "ClmDiagnosisCode_10    36547\n",
      "OtherPhysician         35784\n",
      "ClmProcedureCode_2     35020\n",
      "ClmProcedureCode_1     17326\n",
      "OperatingPhysician     16644\n",
      "ClmDiagnosisCode_9     13497\n",
      "ClmDiagnosisCode_8      9942\n",
      "ClmDiagnosisCode_7      7258\n",
      "ClmDiagnosisCode_6      4838\n",
      "ClmDiagnosisCode_5      2894\n",
      "ClmDiagnosisCode_4      1534\n",
      "DeductibleAmtPaid        899\n",
      "ClmDiagnosisCode_3       676\n",
      "ClmDiagnosisCode_2       226\n",
      "AttendingPhysician       112\n",
      "dtype: int64\n",
      "\n",
      "🔸 Missing Values in Outpatient Data:\n",
      "ClmProcedureCode_6       517737\n",
      "ClmProcedureCode_5       517737\n",
      "ClmProcedureCode_4       517735\n",
      "ClmProcedureCode_3       517733\n",
      "ClmProcedureCode_2       517701\n",
      "ClmProcedureCode_1       517575\n",
      "ClmDiagnosisCode_10      516654\n",
      "ClmDiagnosisCode_9       502899\n",
      "ClmDiagnosisCode_8       494825\n",
      "ClmDiagnosisCode_7       484776\n",
      "ClmDiagnosisCode_6       468981\n",
      "ClmDiagnosisCode_5       443393\n",
      "OperatingPhysician       427120\n",
      "ClmAdmitDiagnosisCode    412312\n",
      "ClmDiagnosisCode_4       392141\n",
      "OtherPhysician           322691\n",
      "ClmDiagnosisCode_3       314480\n",
      "ClmDiagnosisCode_2       195380\n",
      "ClmDiagnosisCode_1        10453\n",
      "AttendingPhysician         1396\n",
      "dtype: int64\n"
     ]
    }
   ],
   "source": [
    "# Function to display missing values\n",
    "def missing_summary(df, name):\n",
    "    print(f\"\\n🔸 Missing Values in {name}:\")\n",
    "    missing = df.isnull().sum()\n",
    "    missing = missing[missing > 0].sort_values(ascending=False)\n",
    "    if not missing.empty:\n",
    "        print(missing)\n",
    "    else:\n",
    "        print(\"No missing values.\")\n",
    "\n",
    "# Apply to each dataset\n",
    "missing_summary(main_claim_df, \"Main Claim Data\")\n",
    "missing_summary(beneficiary_df, \"Beneficiary Data\")\n",
    "missing_summary(inpatient_df, \"Inpatient Data\")\n",
    "missing_summary(outpatient_df, \"Outpatient Data\")"
   ]
  },
  {
   "cell_type": "code",
   "execution_count": 8,
   "id": "677142f1-fe6b-44b5-bb6f-a8b9f73401a5",
   "metadata": {},
   "outputs": [],
   "source": [
    "# Exploratory Data Analysis (EDA) for the main_claim_df"
   ]
  },
  {
   "cell_type": "code",
   "execution_count": 9,
   "id": "d5eeec95-7582-490f-adc2-39ea2317f7f3",
   "metadata": {},
   "outputs": [
    {
     "name": "stdout",
     "output_type": "stream",
     "text": [
      "🔹 Dataset Info:\n",
      "<class 'pandas.core.frame.DataFrame'>\n",
      "RangeIndex: 5410 entries, 0 to 5409\n",
      "Data columns (total 2 columns):\n",
      " #   Column          Non-Null Count  Dtype \n",
      "---  ------          --------------  ----- \n",
      " 0   Provider        5410 non-null   object\n",
      " 1   PotentialFraud  5410 non-null   object\n",
      "dtypes: object(2)\n",
      "memory usage: 84.7+ KB\n",
      "None\n"
     ]
    }
   ],
   "source": [
    "#Basic info\n",
    "print(\"🔹 Dataset Info:\")\n",
    "print(main_claim_df.info())"
   ]
  },
  {
   "cell_type": "code",
   "execution_count": 10,
   "id": "3aa49f07-669a-43f3-9c5d-54644291db00",
   "metadata": {},
   "outputs": [
    {
     "name": "stdout",
     "output_type": "stream",
     "text": [
      "\n",
      "🔹 First 5 Rows:\n",
      "   Provider PotentialFraud\n",
      "0  PRV51001             No\n",
      "1  PRV51003            Yes\n",
      "2  PRV51004             No\n",
      "3  PRV51005            Yes\n",
      "4  PRV51007             No\n"
     ]
    }
   ],
   "source": [
    "# Preview of Data\n",
    "print(\"\\n🔹 First 5 Rows:\")\n",
    "print(main_claim_df.head())"
   ]
  },
  {
   "cell_type": "code",
   "execution_count": 11,
   "id": "c73f7a48-02f9-4177-97a5-9b2d160a84f4",
   "metadata": {},
   "outputs": [
    {
     "name": "stdout",
     "output_type": "stream",
     "text": [
      "\n",
      " fraud level distribution\n",
      "PotentialFraud\n",
      "No     4904\n",
      "Yes     506\n",
      "Name: count, dtype: int64\n"
     ]
    }
   ],
   "source": [
    "# Value counts for PotentialFraud\n",
    "print(\"\\n fraud level distribution\")\n",
    "print(main_claim_df['PotentialFraud'].value_counts())"
   ]
  },
  {
   "cell_type": "code",
   "execution_count": 12,
   "id": "1269523e-0ba3-4c1c-9bfb-2a61ae7b1548",
   "metadata": {},
   "outputs": [
    {
     "name": "stdout",
     "output_type": "stream",
     "text": [
      "\n",
      " Fraud Label Distribution (Normalized):\n",
      "PotentialFraud\n",
      "No     0.90647\n",
      "Yes    0.09353\n",
      "Name: proportion, dtype: float64\n"
     ]
    }
   ],
   "source": [
    "print(\"\\n Fraud Label Distribution (Normalized):\")\n",
    "print(main_claim_df['PotentialFraud'].value_counts(normalize=True))"
   ]
  },
  {
   "cell_type": "code",
   "execution_count": 13,
   "id": "34844f15-47ed-434f-8295-bae8eac6af41",
   "metadata": {},
   "outputs": [
    {
     "name": "stdout",
     "output_type": "stream",
     "text": [
      "\n",
      " Unique Providers: 5410\n"
     ]
    }
   ],
   "source": [
    "#Check unique providers\n",
    "print(f\"\\n Unique Providers: {main_claim_df['Provider'].nunique()}\")"
   ]
  },
  {
   "cell_type": "code",
   "execution_count": 14,
   "id": "2c98e1f3-a654-4d5e-aa21-1701a65def47",
   "metadata": {},
   "outputs": [
    {
     "name": "stdout",
     "output_type": "stream",
     "text": [
      "\n",
      " Duplicate Provider Entries: 0\n"
     ]
    }
   ],
   "source": [
    "# Check for duplicate providers (if any)\n",
    "duplicates = main_claim_df.duplicated(subset=['Provider']).sum()\n",
    "print(f\"\\n Duplicate Provider Entries: {duplicates}\")"
   ]
  },
  {
   "cell_type": "code",
   "execution_count": 15,
   "id": "77065bfb-0d51-4b94-b8ef-8a51a493d19e",
   "metadata": {},
   "outputs": [
    {
     "name": "stdout",
     "output_type": "stream",
     "text": [
      "\n",
      " Missing Values:\n",
      "Provider          0\n",
      "PotentialFraud    0\n",
      "dtype: int64\n"
     ]
    }
   ],
   "source": [
    "# Missing values\n",
    "print(\"\\n Missing Values:\")\n",
    "print(main_claim_df.isnull().sum())"
   ]
  },
  {
   "cell_type": "code",
   "execution_count": 16,
   "id": "da2e3746-581f-480b-87f9-4c87ab8a881a",
   "metadata": {},
   "outputs": [
    {
     "data": {
      "image/png": "[encoded data removed]",
      "text/plain": [
       "<Figure size 500x400 with 1 Axes>"
      ]
     },
     "metadata": {},
     "output_type": "display_data"
    }
   ],
   "source": [
    "# Encode 'PotentialFraud' as numeric label\n",
    "main_claim_df['FraudLabel'] = main_claim_df['PotentialFraud'].map({'Yes': 1, 'No': 0})\n",
    "\n",
    "plt.figure(figsize=(5,4))\n",
    "main_claim_df['PotentialFraud'].value_counts().plot(kind='bar', color=['lightgreen', 'salmon'])\n",
    "plt.title(\"Fraud Label Distribution\")\n",
    "plt.xlabel(\"PotentialFraud\")\n",
    "plt.ylabel(\"Count\")\n",
    "plt.xticks(rotation=0)\n",
    "plt.grid(axis='y', linestyle='--', alpha=0.5)\n",
    "plt.tight_layout()\n",
    "plt.show()"
   ]
  },
  {
   "cell_type": "code",
   "execution_count": 17,
   "id": "11f2a197-5add-4e36-9829-acad6bb66af2",
   "metadata": {},
   "outputs": [],
   "source": [
    "# Exploratory Data Analysis (EDA) - Beneficiary Data"
   ]
  },
  {
   "cell_type": "code",
   "execution_count": 18,
   "id": "178313d0-125e-457e-b696-13c7db7c0e84",
   "metadata": {},
   "outputs": [
    {
     "name": "stdout",
     "output_type": "stream",
     "text": [
      "🔹 Dataset Info:\n",
      "<class 'pandas.core.frame.DataFrame'>\n",
      "RangeIndex: 138556 entries, 0 to 138555\n",
      "Data columns (total 25 columns):\n",
      " #   Column                           Non-Null Count   Dtype \n",
      "---  ------                           --------------   ----- \n",
      " 0   BeneID                           138556 non-null  object\n",
      " 1   DOB                              138556 non-null  object\n",
      " 2   DOD                              1421 non-null    object\n",
      " 3   Gender                           138556 non-null  int64 \n",
      " 4   Race                             138556 non-null  int64 \n",
      " 5   RenalDiseaseIndicator            138556 non-null  object\n",
      " 6   State                            138556 non-null  int64 \n",
      " 7   County                           138556 non-null  int64 \n",
      " 8   NoOfMonths_PartACov              138556 non-null  int64 \n",
      " 9   NoOfMonths_PartBCov              138556 non-null  int64 \n",
      " 10  ChronicCond_Alzheimer            138556 non-null  int64 \n",
      " 11  ChronicCond_Heartfailure         138556 non-null  int64 \n",
      " 12  ChronicCond_KidneyDisease        138556 non-null  int64 \n",
      " 13  ChronicCond_Cancer               138556 non-null  int64 \n",
      " 14  ChronicCond_ObstrPulmonary       138556 non-null  int64 \n",
      " 15  ChronicCond_Depression           138556 non-null  int64 \n",
      " 16  ChronicCond_Diabetes             138556 non-null  int64 \n",
      " 17  ChronicCond_IschemicHeart        138556 non-null  int64 \n",
      " 18  ChronicCond_Osteoporasis         138556 non-null  int64 \n",
      " 19  ChronicCond_rheumatoidarthritis  138556 non-null  int64 \n",
      " 20  ChronicCond_stroke               138556 non-null  int64 \n",
      " 21  IPAnnualReimbursementAmt         138556 non-null  int64 \n",
      " 22  IPAnnualDeductibleAmt            138556 non-null  int64 \n",
      " 23  OPAnnualReimbursementAmt         138556 non-null  int64 \n",
      " 24  OPAnnualDeductibleAmt            138556 non-null  int64 \n",
      "dtypes: int64(21), object(4)\n",
      "memory usage: 26.4+ MB\n",
      "None\n"
     ]
    }
   ],
   "source": [
    "# Basic info\n",
    "print(\"🔹 Dataset Info:\")\n",
    "print(beneficiary_df.info())"
   ]
  },
  {
   "cell_type": "code",
   "execution_count": 19,
   "id": "80aea327-d080-4fc6-ab27-59330f0e0e1d",
   "metadata": {},
   "outputs": [
    {
     "name": "stdout",
     "output_type": "stream",
     "text": [
      "\n",
      "🔹 First 5 Rows:\n",
      "                                              BeneID         DOB  DOD  Gender  \\\n",
      "0  62c5c5b1ec718a21c397f09c5bc6cf196a741576616275...  1943-01-01  NaN       1   \n",
      "1  d54d44a9fc60d30a8857b1e3cfe24a1c16e5a09a157a3c...  1936-09-01  NaN       2   \n",
      "2  56ef33518b533a792ae6e471e493e0cefd4792d380c6bd...  1936-08-01  NaN       1   \n",
      "3  15415122c82e435504290d4f6f476726f0594c577ebac3...  1922-07-01  NaN       1   \n",
      "4  43ad0b2a7221cd758f9e36b8696b322aa2b1a534185593...  1935-09-01  NaN       1   \n",
      "\n",
      "   Race RenalDiseaseIndicator  State  County  NoOfMonths_PartACov  \\\n",
      "0     1                     0     39     230                   12   \n",
      "1     1                     0     39     280                   12   \n",
      "2     1                     0     52     590                   12   \n",
      "3     1                     0     39     270                   12   \n",
      "4     1                     0     24     680                   12   \n",
      "\n",
      "   NoOfMonths_PartBCov  ChronicCond_Alzheimer  ChronicCond_Heartfailure  \\\n",
      "0                   12                      1                         2   \n",
      "1                   12                      2                         2   \n",
      "2                   12                      1                         2   \n",
      "3                   12                      1                         1   \n",
      "4                   12                      2                         2   \n",
      "\n",
      "   ChronicCond_KidneyDisease  ChronicCond_Cancer  ChronicCond_ObstrPulmonary  \\\n",
      "0                          1                   2                           2   \n",
      "1                          2                   2                           2   \n",
      "2                          2                   2                           2   \n",
      "3                          2                   2                           2   \n",
      "4                          2                   2                           1   \n",
      "\n",
      "   ChronicCond_Depression  ChronicCond_Diabetes  ChronicCond_IschemicHeart  \\\n",
      "0                       1                     1                          1   \n",
      "1                       2                     2                          2   \n",
      "2                       2                     2                          1   \n",
      "3                       2                     1                          1   \n",
      "4                       2                     1                          2   \n",
      "\n",
      "   ChronicCond_Osteoporasis  ChronicCond_rheumatoidarthritis  \\\n",
      "0                         2                                1   \n",
      "1                         2                                2   \n",
      "2                         2                                2   \n",
      "3                         1                                1   \n",
      "4                         2                                2   \n",
      "\n",
      "   ChronicCond_stroke  IPAnnualReimbursementAmt  IPAnnualDeductibleAmt  \\\n",
      "0                   1                     36000                   3204   \n",
      "1                   2                         0                      0   \n",
      "2                   2                         0                      0   \n",
      "3                   2                         0                      0   \n",
      "4                   2                         0                      0   \n",
      "\n",
      "   OPAnnualReimbursementAmt  OPAnnualDeductibleAmt  \n",
      "0                        60                     70  \n",
      "1                        30                     50  \n",
      "2                        90                     40  \n",
      "3                      1810                    760  \n",
      "4                      1790                   1200  \n"
     ]
    }
   ],
   "source": [
    "# Preview of the data\n",
    "print(\"\\n🔹 First 5 Rows:\")\n",
    "print(beneficiary_df.head())"
   ]
  },
  {
   "cell_type": "code",
   "execution_count": 20,
   "id": "2d6a8403-3a92-4e8e-a015-2bf087b19223",
   "metadata": {},
   "outputs": [
    {
     "name": "stdout",
     "output_type": "stream",
     "text": [
      "\n",
      " Missing Values:\n",
      "BeneID                                  0\n",
      "DOB                                     0\n",
      "DOD                                137135\n",
      "Gender                                  0\n",
      "Race                                    0\n",
      "RenalDiseaseIndicator                   0\n",
      "State                                   0\n",
      "County                                  0\n",
      "NoOfMonths_PartACov                     0\n",
      "NoOfMonths_PartBCov                     0\n",
      "ChronicCond_Alzheimer                   0\n",
      "ChronicCond_Heartfailure                0\n",
      "ChronicCond_KidneyDisease               0\n",
      "ChronicCond_Cancer                      0\n",
      "ChronicCond_ObstrPulmonary              0\n",
      "ChronicCond_Depression                  0\n",
      "ChronicCond_Diabetes                    0\n",
      "ChronicCond_IschemicHeart               0\n",
      "ChronicCond_Osteoporasis                0\n",
      "ChronicCond_rheumatoidarthritis         0\n",
      "ChronicCond_stroke                      0\n",
      "IPAnnualReimbursementAmt                0\n",
      "IPAnnualDeductibleAmt                   0\n",
      "OPAnnualReimbursementAmt                0\n",
      "OPAnnualDeductibleAmt                   0\n",
      "dtype: int64\n"
     ]
    }
   ],
   "source": [
    "# Check for missing values\n",
    "print(\"\\n Missing Values:\")\n",
    "print(beneficiary_df.isnull().sum())"
   ]
  },
  {
   "cell_type": "code",
   "execution_count": 21,
   "id": "e6136f25-12db-4869-a463-db7da0288c70",
   "metadata": {},
   "outputs": [
    {
     "name": "stdout",
     "output_type": "stream",
     "text": [
      "\n",
      " Unique Beneficiaries: 138556\n"
     ]
    }
   ],
   "source": [
    "# Check number of unique beneficiaries\n",
    "print(f\"\\n Unique Beneficiaries: {beneficiary_df['BeneID'].nunique()}\")"
   ]
  },
  {
   "cell_type": "code",
   "execution_count": 22,
   "id": "7f954133-ef5b-4808-9796-14baa5047a83",
   "metadata": {},
   "outputs": [
    {
     "name": "stdout",
     "output_type": "stream",
     "text": [
      "\n",
      " Gender Distribution:\n",
      "Gender\n",
      "2    79106\n",
      "1    59450\n",
      "Name: count, dtype: int64\n"
     ]
    },
    {
     "data": {
      "text/plain": [
       "Text(0, 0.5, 'Count')"
      ]
     },
     "execution_count": 22,
     "metadata": {},
     "output_type": "execute_result"
    },
    {
     "data": {
      "image/png": "[encoded data removed]",
      "text/plain": [
       "<Figure size 1000x400 with 1 Axes>"
      ]
     },
     "metadata": {},
     "output_type": "display_data"
    }
   ],
   "source": [
    "# Gender distribution\n",
    "print(\"\\n Gender Distribution:\")\n",
    "print(beneficiary_df['Gender'].value_counts())\n",
    "gender_counts = beneficiary_df['Gender'].value_counts().sort_index()\n",
    "plt.figure(figsize=(10,4))\n",
    "plt.subplot(1, 2, 1)\n",
    "gender_counts.plot(kind='bar', color='skyblue')\n",
    "plt.title('Gender Distribution (1=Male, 2=Female)')\n",
    "plt.xlabel('Gender')\n",
    "plt.ylabel('Count')"
   ]
  },
  {
   "cell_type": "code",
   "execution_count": 23,
   "id": "df5a31a2-0b36-4840-b681-c7936390c161",
   "metadata": {},
   "outputs": [
    {
     "name": "stdout",
     "output_type": "stream",
     "text": [
      "\n",
      " Race Distribution:\n",
      "Race\n",
      "1    117057\n",
      "2     13538\n",
      "3      5059\n",
      "5      2902\n",
      "Name: count, dtype: int64\n"
     ]
    },
    {
     "data": {
      "text/plain": [
       "Text(0, 0.5, 'Count')"
      ]
     },
     "execution_count": 23,
     "metadata": {},
     "output_type": "execute_result"
    },
    {
     "data": {
      "image/png": "[encoded data removed]",
      "text/plain": [
       "<Figure size 1000x400 with 1 Axes>"
      ]
     },
     "metadata": {},
     "output_type": "display_data"
    }
   ],
   "source": [
    "# Race distribution\n",
    "print(\"\\n Race Distribution:\")\n",
    "print(beneficiary_df['Race'].value_counts())\n",
    "race_counts = beneficiary_df['Race'].value_counts().sort_index()\n",
    "plt.figure(figsize=(10,4))\n",
    "plt.subplot(1, 2, 1)\n",
    "race_counts.plot(kind='bar', color='skyblue')\n",
    "plt.title('Race Distribution')\n",
    "plt.xlabel('Race')\n",
    "plt.ylabel('Count')"
   ]
  },
  {
   "cell_type": "code",
   "execution_count": 24,
   "id": "c311c9a0-12c3-40d7-97ef-8fea5960fd6d",
   "metadata": {},
   "outputs": [
    {
     "data": {
      "image/png": "[encoded data removed]",
      "text/plain": [
       "<Figure size 640x480 with 1 Axes>"
      ]
     },
     "metadata": {},
     "output_type": "display_data"
    }
   ],
   "source": [
    "#Mortality Analysis (DOD column)\n",
    "beneficiary_df['Deceased'] = beneficiary_df['DOD'].notnull().astype(int)\n",
    "deceased_counts = beneficiary_df['Deceased'].value_counts()\n",
    "deceased_counts.plot(kind='bar', color=['green', 'red'])\n",
    "plt.title('Beneficiary Mortality (0=Alive, 1=Deceased)')\n",
    "plt.xlabel('Deceased')\n",
    "plt.ylabel('Count')\n",
    "plt.show()"
   ]
  },
  {
   "cell_type": "code",
   "execution_count": 25,
   "id": "3a6427d5-98f1-480e-8ec0-51adf030ba2d",
   "metadata": {},
   "outputs": [
    {
     "name": "stdout",
     "output_type": "stream",
     "text": [
      "\n",
      " Reimbursement and Deductible Summary:\n",
      "       IPAnnualReimbursementAmt  OPAnnualReimbursementAmt  \\\n",
      "count             138556.000000             138556.000000   \n",
      "mean                3660.346502               1298.219348   \n",
      "std                 9568.621827               2493.901134   \n",
      "min                -8000.000000                -70.000000   \n",
      "25%                    0.000000                170.000000   \n",
      "50%                    0.000000                570.000000   \n",
      "75%                 2280.000000               1500.000000   \n",
      "max               161470.000000             102960.000000   \n",
      "\n",
      "       IPAnnualDeductibleAmt  OPAnnualDeductibleAmt  \n",
      "count          138556.000000          138556.000000  \n",
      "mean              399.847296             377.718258  \n",
      "std               956.175202             645.530187  \n",
      "min                 0.000000               0.000000  \n",
      "25%                 0.000000              40.000000  \n",
      "50%                 0.000000             170.000000  \n",
      "75%              1068.000000             460.000000  \n",
      "max             38272.000000           13840.000000  \n"
     ]
    }
   ],
   "source": [
    "# Annual Reimbursement and Deductible\n",
    "print(\"\\n Reimbursement and Deductible Summary:\")\n",
    "print(beneficiary_df[['IPAnnualReimbursementAmt', 'OPAnnualReimbursementAmt',\n",
    "                      'IPAnnualDeductibleAmt', 'OPAnnualDeductibleAmt']].describe())"
   ]
  },
  {
   "cell_type": "code",
   "execution_count": 26,
   "id": "e1fbbcb1-954b-4aa2-93b5-05bc31f5aefa",
   "metadata": {},
   "outputs": [
    {
     "data": {
      "image/png": "[encoded data removed]",
      "text/plain": [
       "<Figure size 640x480 with 1 Axes>"
      ]
     },
     "metadata": {},
     "output_type": "display_data"
    }
   ],
   "source": [
    "# Age Distribution\n",
    "beneficiary_df['DOB'] = pd.to_datetime(beneficiary_df['DOB'], errors='coerce')\n",
    "beneficiary_df['Age'] = 2009 - beneficiary_df['DOB'].dt.year  # using 2009 as reference year\n",
    "beneficiary_df['Age'].hist(bins=30, color='lightgreen')\n",
    "plt.title('Age Distribution of Beneficiaries')\n",
    "plt.xlabel('Age')\n",
    "plt.ylabel('Count')\n",
    "plt.show()"
   ]
  },
  {
   "cell_type": "code",
   "execution_count": 27,
   "id": "ccb8bb2a-4848-4335-89c3-37fb508588c3",
   "metadata": {},
   "outputs": [
    {
     "name": "stdout",
     "output_type": "stream",
     "text": [
      "\n",
      " Chronic Condition Coverage (% with condition):\n",
      "ChronicCond_IschemicHeart          0.675857\n",
      "ChronicCond_Diabetes               0.601858\n",
      "ChronicCond_Heartfailure           0.493678\n",
      "ChronicCond_Depression             0.355524\n",
      "ChronicCond_Alzheimer              0.332183\n",
      "ChronicCond_KidneyDisease          0.312357\n",
      "ChronicCond_Osteoporasis           0.274683\n",
      "ChronicCond_rheumatoidarthritis    0.256820\n",
      "ChronicCond_ObstrPulmonary         0.237153\n",
      "ChronicCond_Cancer                 0.119959\n",
      "ChronicCond_stroke                 0.079058\n",
      "dtype: float64\n"
     ]
    }
   ],
   "source": [
    "# Chronic Conditions Overview\n",
    "chronic_cols = [col for col in beneficiary_df.columns if col.startswith('ChronicCond_')]\n",
    "print(\"\\n Chronic Condition Coverage (% with condition):\")\n",
    "print(beneficiary_df[chronic_cols].apply(lambda col: (col == 1).mean()).sort_values(ascending=False))"
   ]
  },
  {
   "cell_type": "code",
   "execution_count": 28,
   "id": "944af51f-0470-4581-8dfb-adbafd77c641",
   "metadata": {},
   "outputs": [
    {
     "name": "stdout",
     "output_type": "stream",
     "text": [
      "\n",
      " Chronic Condition Distributions:\n",
      "\n",
      "ChronicCond_Alzheimer Value Counts:\n",
      "ChronicCond_Alzheimer\n",
      "2    92530\n",
      "1    46026\n",
      "Name: count, dtype: int64\n",
      "\n",
      "ChronicCond_Heartfailure Value Counts:\n",
      "ChronicCond_Heartfailure\n",
      "2    70154\n",
      "1    68402\n",
      "Name: count, dtype: int64\n",
      "\n",
      "ChronicCond_KidneyDisease Value Counts:\n",
      "ChronicCond_KidneyDisease\n",
      "2    95277\n",
      "1    43279\n",
      "Name: count, dtype: int64\n",
      "\n",
      "ChronicCond_Cancer Value Counts:\n",
      "ChronicCond_Cancer\n",
      "2    121935\n",
      "1     16621\n",
      "Name: count, dtype: int64\n",
      "\n",
      "ChronicCond_ObstrPulmonary Value Counts:\n",
      "ChronicCond_ObstrPulmonary\n",
      "2    105697\n",
      "1     32859\n",
      "Name: count, dtype: int64\n",
      "\n",
      "ChronicCond_Depression Value Counts:\n",
      "ChronicCond_Depression\n",
      "2    89296\n",
      "1    49260\n",
      "Name: count, dtype: int64\n",
      "\n",
      "ChronicCond_Diabetes Value Counts:\n",
      "ChronicCond_Diabetes\n",
      "1    83391\n",
      "2    55165\n",
      "Name: count, dtype: int64\n",
      "\n",
      "ChronicCond_IschemicHeart Value Counts:\n",
      "ChronicCond_IschemicHeart\n",
      "1    93644\n",
      "2    44912\n",
      "Name: count, dtype: int64\n",
      "\n",
      "ChronicCond_Osteoporasis Value Counts:\n",
      "ChronicCond_Osteoporasis\n",
      "2    100497\n",
      "1     38059\n",
      "Name: count, dtype: int64\n",
      "\n",
      "ChronicCond_rheumatoidarthritis Value Counts:\n",
      "ChronicCond_rheumatoidarthritis\n",
      "2    102972\n",
      "1     35584\n",
      "Name: count, dtype: int64\n",
      "\n",
      "ChronicCond_stroke Value Counts:\n",
      "ChronicCond_stroke\n",
      "2    127602\n",
      "1     10954\n",
      "Name: count, dtype: int64\n"
     ]
    }
   ],
   "source": [
    "chronic_cols = [col for col in beneficiary_df.columns if 'ChronicCond' in col]\n",
    "print(\"\\n Chronic Condition Distributions:\")\n",
    "for col in chronic_cols:\n",
    "    print(f\"\\n{col} Value Counts:\\n{beneficiary_df[col].value_counts()}\")"
   ]
  },
  {
   "cell_type": "code",
   "execution_count": 29,
   "id": "0692bacb-bc40-45dc-ad1d-1bc7a5f635b5",
   "metadata": {},
   "outputs": [
    {
     "data": {
      "image/png": "[encoded data removed]",
      "text/plain": [
       "<Figure size 800x500 with 1 Axes>"
      ]
     },
     "metadata": {},
     "output_type": "display_data"
    }
   ],
   "source": [
    "# Bar plot for % with each condition\n",
    "chronic_percentages = {}\n",
    "for col in chronic_cols:\n",
    "    chronic_percentages[col] = (beneficiary_df[col] == 1).mean() * 100\n",
    "plt.figure(figsize=(8,5))\n",
    "plt.barh(list(chronic_percentages.keys()), list(chronic_percentages.values()), color='purple')\n",
    "plt.xlabel('Percentage with Condition (%)')\n",
    "plt.title('Prevalence of Chronic Conditions in Beneficiaries')\n",
    "plt.tight_layout()\n",
    "plt.show()"
   ]
  },
  {
   "cell_type": "code",
   "execution_count": 30,
   "id": "ac9ea3da-a57e-4850-8127-6638366a5b96",
   "metadata": {},
   "outputs": [],
   "source": [
    "# Exploratory Data Analysis (EDA) - Inpatient Data"
   ]
  },
  {
   "cell_type": "code",
   "execution_count": 31,
   "id": "2a814353-278d-4308-84eb-48af0ca8bd01",
   "metadata": {},
   "outputs": [
    {
     "name": "stdout",
     "output_type": "stream",
     "text": [
      "Dataset Info:\n",
      "<class 'pandas.core.frame.DataFrame'>\n",
      "RangeIndex: 40474 entries, 0 to 40473\n",
      "Data columns (total 30 columns):\n",
      " #   Column                  Non-Null Count  Dtype  \n",
      "---  ------                  --------------  -----  \n",
      " 0   BeneID                  40474 non-null  object \n",
      " 1   ClaimID                 40474 non-null  object \n",
      " 2   ClaimStartDt            40474 non-null  object \n",
      " 3   ClaimEndDt              40474 non-null  object \n",
      " 4   Provider                40474 non-null  object \n",
      " 5   InscClaimAmtReimbursed  40474 non-null  int64  \n",
      " 6   AttendingPhysician      40362 non-null  object \n",
      " 7   OperatingPhysician      23830 non-null  object \n",
      " 8   OtherPhysician          4690 non-null   object \n",
      " 9   AdmissionDt             40474 non-null  object \n",
      " 10  ClmAdmitDiagnosisCode   40474 non-null  object \n",
      " 11  DeductibleAmtPaid       39575 non-null  float64\n",
      " 12  DischargeDt             40474 non-null  object \n",
      " 13  DiagnosisGroupCode      40474 non-null  object \n",
      " 14  ClmDiagnosisCode_1      40474 non-null  object \n",
      " 15  ClmDiagnosisCode_2      40248 non-null  object \n",
      " 16  ClmDiagnosisCode_3      39798 non-null  object \n",
      " 17  ClmDiagnosisCode_4      38940 non-null  object \n",
      " 18  ClmDiagnosisCode_5      37580 non-null  object \n",
      " 19  ClmDiagnosisCode_6      35636 non-null  object \n",
      " 20  ClmDiagnosisCode_7      33216 non-null  object \n",
      " 21  ClmDiagnosisCode_8      30532 non-null  object \n",
      " 22  ClmDiagnosisCode_9      26977 non-null  object \n",
      " 23  ClmDiagnosisCode_10     3927 non-null   object \n",
      " 24  ClmProcedureCode_1      23148 non-null  float64\n",
      " 25  ClmProcedureCode_2      5454 non-null   float64\n",
      " 26  ClmProcedureCode_3      965 non-null    float64\n",
      " 27  ClmProcedureCode_4      116 non-null    float64\n",
      " 28  ClmProcedureCode_5      9 non-null      float64\n",
      " 29  ClmProcedureCode_6      0 non-null      float64\n",
      "dtypes: float64(7), int64(1), object(22)\n",
      "memory usage: 9.3+ MB\n",
      "None\n"
     ]
    }
   ],
   "source": [
    "# Dataset Info\n",
    "print(\"Dataset Info:\")\n",
    "print(inpatient_df.info())"
   ]
  },
  {
   "cell_type": "code",
   "execution_count": 32,
   "id": "090096c3-40f8-43bb-897b-a0c0e0329289",
   "metadata": {},
   "outputs": [
    {
     "name": "stdout",
     "output_type": "stream",
     "text": [
      "                                              BeneID  \\\n",
      "0  62c5c5b1ec718a21c397f09c5bc6cf196a741576616275...   \n",
      "1  62c5c5b1ec718a21c397f09c5bc6cf196a741576616275...   \n",
      "2  62c5c5b1ec718a21c397f09c5bc6cf196a741576616275...   \n",
      "3  89be34d4df0f5df66aa10a3743b6a3906bb574062bd11b...   \n",
      "4  33cef30994eea7f643202d4a0413ef92894f699739e3d7...   \n",
      "\n",
      "                                             ClaimID ClaimStartDt  ClaimEndDt  \\\n",
      "0  dd21878044b6d4b8c1e0fb7534a38acbe3cb0ef29e6375...   2009-04-12  2009-04-18   \n",
      "1  1e3d2b1b6782fd037885e04b81796ae07524283a612bac...   2009-08-31  2009-09-02   \n",
      "2  5d5acf65d788c49d586064959a80604d9e3695b1a1c1fa...   2009-09-17  2009-09-20   \n",
      "3  497c7f708172aeb37630900e6541e05bd71422f2eed3c9...   2009-02-14  2009-02-22   \n",
      "4  9bba19961169ed30292a19ad77f89c4a4e69c891ea56dd...   2009-08-13  2009-08-30   \n",
      "\n",
      "   Provider  InscClaimAmtReimbursed AttendingPhysician OperatingPhysician  \\\n",
      "0  PRV55912                   26000          PHY390922                NaN   \n",
      "1  PRV55907                    5000          PHY318495          PHY318495   \n",
      "2  PRV56046                    5000          PHY372395                NaN   \n",
      "3  PRV52405                    5000          PHY369659          PHY392961   \n",
      "4  PRV56614                   10000          PHY379376          PHY398258   \n",
      "\n",
      "  OtherPhysician AdmissionDt ClmAdmitDiagnosisCode  DeductibleAmtPaid  \\\n",
      "0            NaN  2009-04-12                  7866             1068.0   \n",
      "1            NaN  2009-08-31                  6186             1068.0   \n",
      "2      PHY324689  2009-09-17                 29590             1068.0   \n",
      "3      PHY349768  2009-02-14                   431             1068.0   \n",
      "4            NaN  2009-08-13                 78321             1068.0   \n",
      "\n",
      "  DischargeDt DiagnosisGroupCode ClmDiagnosisCode_1 ClmDiagnosisCode_2  \\\n",
      "0  2009-04-18                201               1970               4019   \n",
      "1  2009-09-02                750               6186               2948   \n",
      "2  2009-09-20                883              29623              30390   \n",
      "3  2009-02-22                067              43491               2762   \n",
      "4  2009-08-30                975                042               3051   \n",
      "\n",
      "  ClmDiagnosisCode_3 ClmDiagnosisCode_4 ClmDiagnosisCode_5 ClmDiagnosisCode_6  \\\n",
      "0               5853               7843               2768              71590   \n",
      "1              56400                NaN                NaN                NaN   \n",
      "2              71690              34590              V1581              32723   \n",
      "3               7843              32723              V1041               4254   \n",
      "4              34400               5856              42732                486   \n",
      "\n",
      "  ClmDiagnosisCode_7 ClmDiagnosisCode_8 ClmDiagnosisCode_9  \\\n",
      "0               2724              19889               5849   \n",
      "1                NaN                NaN                NaN   \n",
      "2                NaN                NaN                NaN   \n",
      "3              25062              40390               4019   \n",
      "4               5119              29620              20300   \n",
      "\n",
      "  ClmDiagnosisCode_10  ClmProcedureCode_1  ClmProcedureCode_2  \\\n",
      "0                 NaN                 NaN                 NaN   \n",
      "1                 NaN              7092.0                 NaN   \n",
      "2                 NaN                 NaN                 NaN   \n",
      "3                 NaN               331.0                 NaN   \n",
      "4                 NaN              3893.0                 NaN   \n",
      "\n",
      "   ClmProcedureCode_3  ClmProcedureCode_4  ClmProcedureCode_5  \\\n",
      "0                 NaN                 NaN                 NaN   \n",
      "1                 NaN                 NaN                 NaN   \n",
      "2                 NaN                 NaN                 NaN   \n",
      "3                 NaN                 NaN                 NaN   \n",
      "4                 NaN                 NaN                 NaN   \n",
      "\n",
      "   ClmProcedureCode_6  \n",
      "0                 NaN  \n",
      "1                 NaN  \n",
      "2                 NaN  \n",
      "3                 NaN  \n",
      "4                 NaN  \n"
     ]
    }
   ],
   "source": [
    "# Preview of the Data\n",
    "print(inpatient_df.head())"
   ]
  },
  {
   "cell_type": "code",
   "execution_count": 33,
   "id": "3b12bcf9-ebe8-4dd6-8c0a-96ec026386ef",
   "metadata": {},
   "outputs": [
    {
     "name": "stdout",
     "output_type": "stream",
     "text": [
      "\n",
      " Missing Values:\n",
      "BeneID                        0\n",
      "ClaimID                       0\n",
      "ClaimStartDt                  0\n",
      "ClaimEndDt                    0\n",
      "Provider                      0\n",
      "InscClaimAmtReimbursed        0\n",
      "AttendingPhysician          112\n",
      "OperatingPhysician        16644\n",
      "OtherPhysician            35784\n",
      "AdmissionDt                   0\n",
      "ClmAdmitDiagnosisCode         0\n",
      "DeductibleAmtPaid           899\n",
      "DischargeDt                   0\n",
      "DiagnosisGroupCode            0\n",
      "ClmDiagnosisCode_1            0\n",
      "ClmDiagnosisCode_2          226\n",
      "ClmDiagnosisCode_3          676\n",
      "ClmDiagnosisCode_4         1534\n",
      "ClmDiagnosisCode_5         2894\n",
      "ClmDiagnosisCode_6         4838\n",
      "ClmDiagnosisCode_7         7258\n",
      "ClmDiagnosisCode_8         9942\n",
      "ClmDiagnosisCode_9        13497\n",
      "ClmDiagnosisCode_10       36547\n",
      "ClmProcedureCode_1        17326\n",
      "ClmProcedureCode_2        35020\n",
      "ClmProcedureCode_3        39509\n",
      "ClmProcedureCode_4        40358\n",
      "ClmProcedureCode_5        40465\n",
      "ClmProcedureCode_6        40474\n",
      "dtype: int64\n"
     ]
    }
   ],
   "source": [
    "# Missing Value Check\n",
    "print(\"\\n Missing Values:\")\n",
    "print(inpatient_df.isnull().sum())"
   ]
  },
  {
   "cell_type": "code",
   "execution_count": 34,
   "id": "c881e685-1bb6-430e-848c-203907cafbdc",
   "metadata": {},
   "outputs": [
    {
     "name": "stdout",
     "output_type": "stream",
     "text": [
      "\n",
      " Unique Claims: 40474\n",
      " Unique Providers: 2092\n"
     ]
    }
   ],
   "source": [
    "# Number of unique claims and providers\n",
    "print(f\"\\n Unique Claims: {inpatient_df['ClaimID'].nunique()}\")\n",
    "print(f\" Unique Providers: {inpatient_df['Provider'].nunique()}\")"
   ]
  },
  {
   "cell_type": "code",
   "execution_count": 35,
   "id": "3bf027df-656a-4be3-85f6-4a6e42b16356",
   "metadata": {},
   "outputs": [
    {
     "name": "stdout",
     "output_type": "stream",
     "text": [
      "\n",
      " Reimbursement Amount Statistics:\n",
      "count     40474.000000\n",
      "mean      10087.884074\n",
      "std       10303.099402\n",
      "min           0.000000\n",
      "25%        4000.000000\n",
      "50%        7000.000000\n",
      "75%       12000.000000\n",
      "max      125000.000000\n",
      "Name: InscClaimAmtReimbursed, dtype: float64\n"
     ]
    }
   ],
   "source": [
    "#  Distribution of Reimbursed Amounts\n",
    "print(\"\\n Reimbursement Amount Statistics:\")\n",
    "print(inpatient_df['InscClaimAmtReimbursed'].describe())"
   ]
  },
  {
   "cell_type": "code",
   "execution_count": 36,
   "id": "a60a2196-9902-44c9-b8c7-bdfd816709dc",
   "metadata": {},
   "outputs": [
    {
     "name": "stdout",
     "output_type": "stream",
     "text": [
      "\n",
      " Top 5 Providers by Claim Count:\n",
      "Provider\n",
      "PRV52019    516\n",
      "PRV55462    386\n",
      "PRV54367    322\n",
      "PRV53706    282\n",
      "PRV55209    275\n",
      "Name: count, dtype: int64\n"
     ]
    }
   ],
   "source": [
    "# Count of claims per provider (top 5)\n",
    "print(\"\\n Top 5 Providers by Claim Count:\")\n",
    "print(inpatient_df['Provider'].value_counts().head())"
   ]
  },
  {
   "cell_type": "code",
   "execution_count": 37,
   "id": "aa54287e-56b8-40e6-ab5c-b9ad32364105",
   "metadata": {},
   "outputs": [
    {
     "name": "stdout",
     "output_type": "stream",
     "text": [
      "\n",
      " Admission Date after Claim Start Date (possible issue): 0\n"
     ]
    }
   ],
   "source": [
    "# Admission vs Claim Dates check (optional consistency)\n",
    "inpatient_df['ClaimStartDt'] = pd.to_datetime(inpatient_df['ClaimStartDt'], errors='coerce')\n",
    "inpatient_df['AdmissionDt'] = pd.to_datetime(inpatient_df['AdmissionDt'], errors='coerce')\n",
    "\n",
    "invalid_admission_dates = (inpatient_df['AdmissionDt'] > inpatient_df['ClaimStartDt']).sum()\n",
    "print(f\"\\n Admission Date after Claim Start Date (possible issue): {invalid_admission_dates}\")\n"
   ]
  },
  {
   "cell_type": "code",
   "execution_count": 38,
   "id": "a1b501f3-84dd-48d3-acc0-8767c867f7b0",
   "metadata": {},
   "outputs": [
    {
     "name": "stdout",
     "output_type": "stream",
     "text": [
      "\n",
      " Length of Stay Statistics (Days):\n",
      "count    40474.000000\n",
      "mean         5.660251\n",
      "std          5.628873\n",
      "min          0.000000\n",
      "25%          2.000000\n",
      "50%          4.000000\n",
      "75%          7.000000\n",
      "max         36.000000\n",
      "Name: LOS, dtype: float64\n"
     ]
    }
   ],
   "source": [
    "# Length of Stay (if dates are valid)\n",
    "inpatient_df['ClaimEndDt'] = pd.to_datetime(inpatient_df['ClaimEndDt'], errors='coerce')\n",
    "inpatient_df['LOS'] = (inpatient_df['ClaimEndDt'] - inpatient_df['ClaimStartDt']).dt.days\n",
    "print(\"\\n Length of Stay Statistics (Days):\")\n",
    "print(inpatient_df['LOS'].describe())"
   ]
  },
  {
   "cell_type": "code",
   "execution_count": 39,
   "id": "b01ea7ba-cf7c-43f5-8c91-2e8eb1dd20c7",
   "metadata": {},
   "outputs": [
    {
     "name": "stdout",
     "output_type": "stream",
     "text": [
      "\n",
      " Diagnoses Code Availability:\n",
      "ClmDiagnosisCode_1     40474\n",
      "ClmDiagnosisCode_2     40248\n",
      "ClmDiagnosisCode_3     39798\n",
      "ClmDiagnosisCode_4     38940\n",
      "ClmDiagnosisCode_5     37580\n",
      "ClmDiagnosisCode_6     35636\n",
      "ClmDiagnosisCode_7     33216\n",
      "ClmDiagnosisCode_8     30532\n",
      "ClmDiagnosisCode_9     26977\n",
      "ClmDiagnosisCode_10     3927\n",
      "dtype: int64\n"
     ]
    }
   ],
   "source": [
    "# Diagnoses overview (count of filled codes)\n",
    "diagnosis_cols = [col for col in inpatient_df.columns if col.startswith(\"ClmDiagnosisCode\")]\n",
    "print(\"\\n Diagnoses Code Availability:\")\n",
    "print(inpatient_df[diagnosis_cols].notnull().sum().sort_values(ascending=False))"
   ]
  },
  {
   "cell_type": "code",
   "execution_count": 40,
   "id": "095f970b-ac19-4556-8adb-f5f2aceb04b9",
   "metadata": {},
   "outputs": [
    {
     "name": "stdout",
     "output_type": "stream",
     "text": [
      "\n",
      " Procedure Code Availability:\n",
      "ClmProcedureCode_1    23148\n",
      "ClmProcedureCode_2     5454\n",
      "ClmProcedureCode_3      965\n",
      "ClmProcedureCode_4      116\n",
      "ClmProcedureCode_5        9\n",
      "ClmProcedureCode_6        0\n",
      "dtype: int64\n"
     ]
    }
   ],
   "source": [
    "#  Procedure codes overview\n",
    "procedure_cols = [col for col in inpatient_df.columns if col.startswith(\"ClmProcedureCode\")]\n",
    "print(\"\\n Procedure Code Availability:\")\n",
    "print(inpatient_df[procedure_cols].notnull().sum().sort_values(ascending=False))"
   ]
  },
  {
   "cell_type": "code",
   "execution_count": 41,
   "id": "0a38b4dd-7396-4c1f-916c-d892bc790590",
   "metadata": {},
   "outputs": [],
   "source": [
    "# Exploratory Data Analysis (EDA) - Outpatient Data"
   ]
  },
  {
   "cell_type": "code",
   "execution_count": 42,
   "id": "988908f2-d972-48d5-8b3a-66d0dc10beb5",
   "metadata": {},
   "outputs": [
    {
     "name": "stdout",
     "output_type": "stream",
     "text": [
      "Dataset Info:\n",
      "<class 'pandas.core.frame.DataFrame'>\n",
      "RangeIndex: 517737 entries, 0 to 517736\n",
      "Data columns (total 27 columns):\n",
      " #   Column                  Non-Null Count   Dtype  \n",
      "---  ------                  --------------   -----  \n",
      " 0   BeneID                  517737 non-null  object \n",
      " 1   ClaimID                 517737 non-null  object \n",
      " 2   ClaimStartDt            517737 non-null  object \n",
      " 3   ClaimEndDt              517737 non-null  object \n",
      " 4   Provider                517737 non-null  object \n",
      " 5   InscClaimAmtReimbursed  517737 non-null  int64  \n",
      " 6   AttendingPhysician      516341 non-null  object \n",
      " 7   OperatingPhysician      90617 non-null   object \n",
      " 8   OtherPhysician          195046 non-null  object \n",
      " 9   ClmDiagnosisCode_1      507284 non-null  object \n",
      " 10  ClmDiagnosisCode_2      322357 non-null  object \n",
      " 11  ClmDiagnosisCode_3      203257 non-null  object \n",
      " 12  ClmDiagnosisCode_4      125596 non-null  object \n",
      " 13  ClmDiagnosisCode_5      74344 non-null   object \n",
      " 14  ClmDiagnosisCode_6      48756 non-null   object \n",
      " 15  ClmDiagnosisCode_7      32961 non-null   object \n",
      " 16  ClmDiagnosisCode_8      22912 non-null   object \n",
      " 17  ClmDiagnosisCode_9      14838 non-null   object \n",
      " 18  ClmDiagnosisCode_10     1083 non-null    object \n",
      " 19  ClmProcedureCode_1      162 non-null     float64\n",
      " 20  ClmProcedureCode_2      36 non-null      float64\n",
      " 21  ClmProcedureCode_3      4 non-null       float64\n",
      " 22  ClmProcedureCode_4      2 non-null       float64\n",
      " 23  ClmProcedureCode_5      0 non-null       float64\n",
      " 24  ClmProcedureCode_6      0 non-null       float64\n",
      " 25  DeductibleAmtPaid       517737 non-null  int64  \n",
      " 26  ClmAdmitDiagnosisCode   105425 non-null  object \n",
      "dtypes: float64(6), int64(2), object(19)\n",
      "memory usage: 106.7+ MB\n",
      "None\n"
     ]
    }
   ],
   "source": [
    "print(\"Dataset Info:\")\n",
    "print(outpatient_df.info())"
   ]
  },
  {
   "cell_type": "code",
   "execution_count": 43,
   "id": "064fbbac-8c13-4970-89cd-f5cb7cbfa315",
   "metadata": {},
   "outputs": [
    {
     "name": "stdout",
     "output_type": "stream",
     "text": [
      "\n",
      "First 5 Rows:\n",
      "                                              BeneID  \\\n",
      "0  d54d44a9fc60d30a8857b1e3cfe24a1c16e5a09a157a3c...   \n",
      "1  56ef33518b533a792ae6e471e493e0cefd4792d380c6bd...   \n",
      "2  56ef33518b533a792ae6e471e493e0cefd4792d380c6bd...   \n",
      "3  15415122c82e435504290d4f6f476726f0594c577ebac3...   \n",
      "4  15415122c82e435504290d4f6f476726f0594c577ebac3...   \n",
      "\n",
      "                                             ClaimID ClaimStartDt  ClaimEndDt  \\\n",
      "0  d5ea881d5e0e35db1edebf011ee63c9ad9a21ae3470ffe...   2009-10-11  2009-10-11   \n",
      "1  699ae13fa3cfcc979002e48e86e86cd7397e648e765208...   2009-02-12  2009-02-12   \n",
      "2  3a00c94187a029d983108d002147b0679a0dce4a08d68a...   2009-06-27  2009-06-27   \n",
      "3  fd988acaa93b29898afaf73c20ab55f4e5e348b5abba4c...   2009-01-06  2009-01-06   \n",
      "4  0890387e8f43034e622db7a776bf417f95c04fb0fced0b...   2009-01-22  2009-01-22   \n",
      "\n",
      "   Provider  InscClaimAmtReimbursed AttendingPhysician OperatingPhysician  \\\n",
      "0  PRV56011                      30          PHY326117                NaN   \n",
      "1  PRV57610                      80          PHY362868                NaN   \n",
      "2  PRV57595                      10          PHY328821                NaN   \n",
      "3  PRV56011                      40          PHY334319                NaN   \n",
      "4  PRV56011                     200          PHY403831                NaN   \n",
      "\n",
      "  OtherPhysician ClmDiagnosisCode_1 ClmDiagnosisCode_2 ClmDiagnosisCode_3  \\\n",
      "0            NaN              78943              V5866              V1272   \n",
      "1            NaN               6115                NaN                NaN   \n",
      "2            NaN               2723                NaN                NaN   \n",
      "3            NaN              71988                NaN                NaN   \n",
      "4            NaN              82382              30000              72887   \n",
      "\n",
      "  ClmDiagnosisCode_4 ClmDiagnosisCode_5 ClmDiagnosisCode_6 ClmDiagnosisCode_7  \\\n",
      "0                NaN                NaN                NaN                NaN   \n",
      "1                NaN                NaN                NaN                NaN   \n",
      "2                NaN                NaN                NaN                NaN   \n",
      "3                NaN                NaN                NaN                NaN   \n",
      "4               4280               7197              V4577                NaN   \n",
      "\n",
      "  ClmDiagnosisCode_8 ClmDiagnosisCode_9 ClmDiagnosisCode_10  \\\n",
      "0                NaN                NaN                 NaN   \n",
      "1                NaN                NaN                 NaN   \n",
      "2                NaN                NaN                 NaN   \n",
      "3                NaN                NaN                 NaN   \n",
      "4                NaN                NaN                 NaN   \n",
      "\n",
      "   ClmProcedureCode_1  ClmProcedureCode_2  ClmProcedureCode_3  \\\n",
      "0                 NaN                 NaN                 NaN   \n",
      "1                 NaN                 NaN                 NaN   \n",
      "2                 NaN                 NaN                 NaN   \n",
      "3                 NaN                 NaN                 NaN   \n",
      "4                 NaN                 NaN                 NaN   \n",
      "\n",
      "   ClmProcedureCode_4  ClmProcedureCode_5  ClmProcedureCode_6  \\\n",
      "0                 NaN                 NaN                 NaN   \n",
      "1                 NaN                 NaN                 NaN   \n",
      "2                 NaN                 NaN                 NaN   \n",
      "3                 NaN                 NaN                 NaN   \n",
      "4                 NaN                 NaN                 NaN   \n",
      "\n",
      "   DeductibleAmtPaid ClmAdmitDiagnosisCode  \n",
      "0                  0                 56409  \n",
      "1                  0                 79380  \n",
      "2                  0                   NaN  \n",
      "3                  0                   NaN  \n",
      "4                  0                 71947  \n"
     ]
    }
   ],
   "source": [
    "print(\"\\nFirst 5 Rows:\")\n",
    "print(outpatient_df.head())"
   ]
  },
  {
   "cell_type": "code",
   "execution_count": 44,
   "id": "1758d550-6c49-44bc-91cc-bfeb2ff34450",
   "metadata": {},
   "outputs": [
    {
     "name": "stdout",
     "output_type": "stream",
     "text": [
      "\n",
      "Missing Values:\n",
      "BeneID                         0\n",
      "ClaimID                        0\n",
      "ClaimStartDt                   0\n",
      "ClaimEndDt                     0\n",
      "Provider                       0\n",
      "InscClaimAmtReimbursed         0\n",
      "AttendingPhysician          1396\n",
      "OperatingPhysician        427120\n",
      "OtherPhysician            322691\n",
      "ClmDiagnosisCode_1         10453\n",
      "ClmDiagnosisCode_2        195380\n",
      "ClmDiagnosisCode_3        314480\n",
      "ClmDiagnosisCode_4        392141\n",
      "ClmDiagnosisCode_5        443393\n",
      "ClmDiagnosisCode_6        468981\n",
      "ClmDiagnosisCode_7        484776\n",
      "ClmDiagnosisCode_8        494825\n",
      "ClmDiagnosisCode_9        502899\n",
      "ClmDiagnosisCode_10       516654\n",
      "ClmProcedureCode_1        517575\n",
      "ClmProcedureCode_2        517701\n",
      "ClmProcedureCode_3        517733\n",
      "ClmProcedureCode_4        517735\n",
      "ClmProcedureCode_5        517737\n",
      "ClmProcedureCode_6        517737\n",
      "DeductibleAmtPaid              0\n",
      "ClmAdmitDiagnosisCode     412312\n",
      "dtype: int64\n"
     ]
    }
   ],
   "source": [
    "print(\"\\nMissing Values:\")\n",
    "print(outpatient_df.isnull().sum())"
   ]
  },
  {
   "cell_type": "code",
   "execution_count": 45,
   "id": "75c960af-23c8-436a-9e54-f67f51605e2e",
   "metadata": {},
   "outputs": [
    {
     "name": "stdout",
     "output_type": "stream",
     "text": [
      "\n",
      "Unique Claims: 517737\n",
      "Unique Providers: 5012\n"
     ]
    }
   ],
   "source": [
    "#  Number of unique claims and providers\n",
    "print(f\"\\nUnique Claims: {outpatient_df['ClaimID'].nunique()}\")\n",
    "print(f\"Unique Providers: {outpatient_df['Provider'].nunique()}\")"
   ]
  },
  {
   "cell_type": "code",
   "execution_count": 46,
   "id": "2e4dc052-6af9-41f6-8ab6-8d7613e56363",
   "metadata": {},
   "outputs": [
    {
     "name": "stdout",
     "output_type": "stream",
     "text": [
      "\n",
      "Reimbursement Amount Statistics:\n",
      "count    517737.000000\n",
      "mean        286.334799\n",
      "std         694.034343\n",
      "min           0.000000\n",
      "25%          40.000000\n",
      "50%          80.000000\n",
      "75%         200.000000\n",
      "max      102500.000000\n",
      "Name: InscClaimAmtReimbursed, dtype: float64\n"
     ]
    }
   ],
   "source": [
    "# Reimbursement summary\n",
    "print(\"\\nReimbursement Amount Statistics:\")\n",
    "print(outpatient_df['InscClaimAmtReimbursed'].describe())"
   ]
  },
  {
   "cell_type": "code",
   "execution_count": 47,
   "id": "11a8dbee-0f6a-42f1-b3ba-8e45c9f4419e",
   "metadata": {},
   "outputs": [
    {
     "name": "stdout",
     "output_type": "stream",
     "text": [
      "\n",
      " Deductible Amount Statistics:\n",
      "count    517737.000000\n",
      "mean          2.779233\n",
      "std          15.785839\n",
      "min           0.000000\n",
      "25%           0.000000\n",
      "50%           0.000000\n",
      "75%           0.000000\n",
      "max         897.000000\n",
      "Name: DeductibleAmtPaid, dtype: float64\n"
     ]
    }
   ],
   "source": [
    "# Deductible summary\n",
    "print(\"\\n Deductible Amount Statistics:\")\n",
    "print(outpatient_df['DeductibleAmtPaid'].describe())"
   ]
  },
  {
   "cell_type": "code",
   "execution_count": 48,
   "id": "e3a9f734-4a87-4530-9d7e-131e0362b8c7",
   "metadata": {},
   "outputs": [
    {
     "name": "stdout",
     "output_type": "stream",
     "text": [
      "\n",
      "Claim Duration (Days):\n",
      "count    517737.000000\n",
      "mean          1.420532\n",
      "std           4.707387\n",
      "min           0.000000\n",
      "25%           0.000000\n",
      "50%           0.000000\n",
      "75%           0.000000\n",
      "max          23.000000\n",
      "Name: ClaimDuration, dtype: float64\n"
     ]
    }
   ],
   "source": [
    "# Claim duration\n",
    "outpatient_df['ClaimStartDt'] = pd.to_datetime(outpatient_df['ClaimStartDt'], errors='coerce')\n",
    "outpatient_df['ClaimEndDt'] = pd.to_datetime(outpatient_df['ClaimEndDt'], errors='coerce')\n",
    "outpatient_df['ClaimDuration'] = (outpatient_df['ClaimEndDt'] - outpatient_df['ClaimStartDt']).dt.days\n",
    "print(\"\\nClaim Duration (Days):\")\n",
    "print(outpatient_df['ClaimDuration'].describe())"
   ]
  },
  {
   "cell_type": "code",
   "execution_count": 49,
   "id": "aa52a12f-de19-4080-8afe-d3de74210c05",
   "metadata": {},
   "outputs": [
    {
     "name": "stdout",
     "output_type": "stream",
     "text": [
      "\n",
      "Diagnoses Code Availability:\n",
      "ClmDiagnosisCode_1     507284\n",
      "ClmDiagnosisCode_2     322357\n",
      "ClmDiagnosisCode_3     203257\n",
      "ClmDiagnosisCode_4     125596\n",
      "ClmDiagnosisCode_5      74344\n",
      "ClmDiagnosisCode_6      48756\n",
      "ClmDiagnosisCode_7      32961\n",
      "ClmDiagnosisCode_8      22912\n",
      "ClmDiagnosisCode_9      14838\n",
      "ClmDiagnosisCode_10      1083\n",
      "dtype: int64\n"
     ]
    }
   ],
   "source": [
    "# Diagnoses overview\n",
    "diagnosis_cols_op = [col for col in outpatient_df.columns if col.startswith(\"ClmDiagnosisCode\")]\n",
    "print(\"\\nDiagnoses Code Availability:\")\n",
    "print(outpatient_df[diagnosis_cols_op].notnull().sum().sort_values(ascending=False))"
   ]
  },
  {
   "cell_type": "code",
   "execution_count": 50,
   "id": "a1c4bc18-1089-4992-ba36-e65197260daf",
   "metadata": {},
   "outputs": [
    {
     "name": "stdout",
     "output_type": "stream",
     "text": [
      "\n",
      " Procedure Code Availability:\n",
      "ClmProcedureCode_1    162\n",
      "ClmProcedureCode_2     36\n",
      "ClmProcedureCode_3      4\n",
      "ClmProcedureCode_4      2\n",
      "ClmProcedureCode_5      0\n",
      "ClmProcedureCode_6      0\n",
      "dtype: int64\n"
     ]
    }
   ],
   "source": [
    "# Procedure codes overview\n",
    "procedure_cols_op = [col for col in outpatient_df.columns if col.startswith(\"ClmProcedureCode\")]\n",
    "print(\"\\n Procedure Code Availability:\")\n",
    "print(outpatient_df[procedure_cols_op].notnull().sum().sort_values(ascending=False))"
   ]
  },
  {
   "cell_type": "code",
   "execution_count": 51,
   "id": "7ce5c32e-da6f-4287-aded-da2f2bf6f6ff",
   "metadata": {},
   "outputs": [
    {
     "name": "stdout",
     "output_type": "stream",
     "text": [
      "\n",
      " Top 5 Providers by Claim Count:\n",
      "Provider\n",
      "PRV51459    8240\n",
      "PRV53797    4739\n",
      "PRV51574    4444\n",
      "PRV53918    3588\n",
      "PRV54895    3433\n",
      "Name: count, dtype: int64\n"
     ]
    }
   ],
   "source": [
    "# Top 5 providers by number of outpatient claims\n",
    "print(\"\\n Top 5 Providers by Claim Count:\")\n",
    "print(outpatient_df['Provider'].value_counts().head())"
   ]
  },
  {
   "cell_type": "code",
   "execution_count": 52,
   "id": "d1f491de-d308-41e8-9fe8-754e4cc3837c",
   "metadata": {},
   "outputs": [],
   "source": [
    "# Combine inpatient and outpatient claims\n",
    "claims_df = pd.concat([inpatient_df, outpatient_df], ignore_index=True)"
   ]
  },
  {
   "cell_type": "code",
   "execution_count": 53,
   "id": "037e1fe9-4e94-4174-a960-1d8289f31a09",
   "metadata": {},
   "outputs": [],
   "source": [
    "# Merge with beneficiary info\n",
    "merged_claims = claims_df.merge(beneficiary_df, on='BeneID', how='left')"
   ]
  },
  {
   "cell_type": "code",
   "execution_count": 54,
   "id": "98a2e729-9a3b-40cd-a8d4-a45d045b4fea",
   "metadata": {},
   "outputs": [],
   "source": [
    "# Convert dates\n",
    "merged_claims['ClaimStartDt'] = pd.to_datetime(merged_claims['ClaimStartDt'], errors='coerce')\n",
    "merged_claims['ClaimEndDt'] = pd.to_datetime(merged_claims['ClaimEndDt'], errors='coerce')\n",
    "merged_claims['LOS'] = (merged_claims['ClaimEndDt'] - merged_claims['ClaimStartDt']).dt.days\n"
   ]
  },
  {
   "cell_type": "code",
   "execution_count": 55,
   "id": "093523ce-ae02-4ff6-b1db-f6abc23b489c",
   "metadata": {},
   "outputs": [],
   "source": [
    "# Convert monetary columns to numeric\n",
    "merged_claims['InscClaimAmtReimbursed'] = pd.to_numeric(merged_claims['InscClaimAmtReimbursed'], errors='coerce')\n",
    "merged_claims['DeductibleAmtPaid'] = pd.to_numeric(merged_claims['DeductibleAmtPaid'], errors='coerce')\n"
   ]
  },
  {
   "cell_type": "code",
   "execution_count": 56,
   "id": "dff6b0af-4c93-4753-8ad0-378a77910fd1",
   "metadata": {},
   "outputs": [],
   "source": [
    "#  Aggregate features by Provider\n",
    "agg_df = merged_claims.groupby('Provider').agg({\n",
    "    'ClaimID': 'count',\n",
    "    'InscClaimAmtReimbursed': 'sum',\n",
    "    'DeductibleAmtPaid': 'sum',\n",
    "    'LOS': 'mean',\n",
    "    'Gender': lambda x: x.mode().iloc[0] if not x.mode().empty else None,\n",
    "    'Race': lambda x: x.mode().iloc[0] if not x.mode().empty else None,\n",
    "    'ChronicCond_Diabetes': 'mean',\n",
    "    'ChronicCond_Heartfailure': 'mean',\n",
    "    'ChronicCond_Depression': 'mean',\n",
    "    'ChronicCond_IschemicHeart': 'mean',\n",
    "    'ChronicCond_stroke': 'mean',\n",
    "    'IPAnnualReimbursementAmt': 'mean',\n",
    "    'OPAnnualReimbursementAmt': 'mean',\n",
    "    'IPAnnualDeductibleAmt': 'mean',\n",
    "    'OPAnnualDeductibleAmt': 'mean'\n",
    "}).reset_index()"
   ]
  },
  {
   "cell_type": "code",
   "execution_count": 57,
   "id": "26b3f798-0afd-4f31-a59f-1d81a01c5175",
   "metadata": {},
   "outputs": [],
   "source": [
    "#  Rename columns for clarity\n",
    "agg_df.columns = [\n",
    "    'Provider', 'TotalClaims', 'TotalReimbursed', 'TotalDeductible', 'Avg_LOS',\n",
    "    'MostCommonGender', 'MostCommonRace',\n",
    "    'Avg_Diabetes', 'Avg_HeartFailure', 'Avg_Depression', 'Avg_IschemicHeart', 'Avg_Stroke',\n",
    "    'Avg_IP_Reimbursed', 'Avg_OP_Reimbursed', 'Avg_IP_Deductible', 'Avg_OP_Deductible'\n",
    "]"
   ]
  },
  {
   "cell_type": "code",
   "execution_count": 58,
   "id": "65e9c2f1-77e7-4ac1-a12d-44711f076aed",
   "metadata": {},
   "outputs": [],
   "source": [
    "# Merge with label\n",
    "final_df = agg_df.merge(main_claim_df[['Provider', 'PotentialFraud']], on='Provider', how='inner')\n"
   ]
  },
  {
   "cell_type": "code",
   "execution_count": 59,
   "id": "9663c65c-de5b-4bf0-83e0-52f0df1d6518",
   "metadata": {},
   "outputs": [],
   "source": [
    "# Encode categorical features\n",
    "from sklearn.preprocessing import LabelEncoder\n"
   ]
  },
  {
   "cell_type": "code",
   "execution_count": 60,
   "id": "b6648135-f559-4060-acca-ed13d51a4aa0",
   "metadata": {},
   "outputs": [],
   "source": [
    "le_gender = LabelEncoder()\n",
    "le_race = LabelEncoder()\n",
    "\n",
    "final_df['MostCommonGender'] = le_gender.fit_transform(final_df['MostCommonGender'].astype(str))\n",
    "final_df['MostCommonRace'] = le_race.fit_transform(final_df['MostCommonRace'].astype(str))\n",
    "final_df['FraudLabel'] = final_df['PotentialFraud'].map({'Yes': 1, 'No': 0})"
   ]
  },
  {
   "cell_type": "code",
   "execution_count": 61,
   "id": "86c767d2-dbd0-4297-b5bd-0e2179e994d3",
   "metadata": {},
   "outputs": [],
   "source": [
    "# Define final features and labels\n",
    "X = final_df.drop(columns=['Provider', 'PotentialFraud', 'FraudLabel'])\n",
    "y = final_df['FraudLabel']"
   ]
  },
  {
   "cell_type": "code",
   "execution_count": 62,
   "id": "ade2bba6-79ec-42fa-87dc-f91e0fad0a30",
   "metadata": {},
   "outputs": [],
   "source": [
    "# Feature Engineering (Provider-level)"
   ]
  },
  {
   "cell_type": "code",
   "execution_count": 63,
   "id": "3303066a-59cc-4c0f-aa22-aee58e1d1ebd",
   "metadata": {},
   "outputs": [],
   "source": [
    "# Combine Inpatient & Outpatient claims\n",
    "claims_df = pd.concat([inpatient_df, outpatient_df], ignore_index=True)"
   ]
  },
  {
   "cell_type": "code",
   "execution_count": 64,
   "id": "bae0a13d-3b38-4468-95d4-4ed626d15556",
   "metadata": {},
   "outputs": [],
   "source": [
    "#  Merge with Beneficiary Data\n",
    "claims_merged = claims_df.merge(beneficiary_df, on='BeneID', how='left')\n"
   ]
  },
  {
   "cell_type": "code",
   "execution_count": 65,
   "id": "896c2ff5-b25e-4023-a3c1-16bf04006a35",
   "metadata": {},
   "outputs": [],
   "source": [
    "# Convert data types\n",
    "claims_merged['InscClaimAmtReimbursed'] = pd.to_numeric(claims_merged['InscClaimAmtReimbursed'], errors='coerce')\n",
    "claims_merged['DeductibleAmtPaid'] = pd.to_numeric(claims_merged['DeductibleAmtPaid'], errors='coerce')\n",
    "claims_merged['ClaimStartDt'] = pd.to_datetime(claims_merged['ClaimStartDt'], errors='coerce')\n",
    "claims_merged['ClaimEndDt'] = pd.to_datetime(claims_merged['ClaimEndDt'], errors='coerce')\n",
    "claims_merged['LOS'] = (claims_merged['ClaimEndDt'] - claims_merged['ClaimStartDt']).dt.days\n"
   ]
  },
  {
   "cell_type": "code",
   "execution_count": 66,
   "id": "c4acbe74-1f7a-46a6-ad0f-aa537ff461bc",
   "metadata": {},
   "outputs": [],
   "source": [
    "# Aggregate features at Provider-level\n",
    "agg_features = claims_merged.groupby('Provider').agg({\n",
    "    'ClaimID': 'count',\n",
    "    'InscClaimAmtReimbursed': 'sum',\n",
    "    'DeductibleAmtPaid': 'sum',\n",
    "    'LOS': 'mean',\n",
    "    'Gender': lambda x: x.mode().iloc[0] if not x.mode().empty else None,\n",
    "    'Race': lambda x: x.mode().iloc[0] if not x.mode().empty else None,\n",
    "    'ChronicCond_Diabetes': 'mean',\n",
    "    'ChronicCond_Heartfailure': 'mean',\n",
    "    'ChronicCond_Depression': 'mean',\n",
    "    'ChronicCond_IschemicHeart': 'mean',\n",
    "    'ChronicCond_stroke': 'mean',\n",
    "    'IPAnnualReimbursementAmt': 'mean',\n",
    "    'OPAnnualReimbursementAmt': 'mean',\n",
    "    'IPAnnualDeductibleAmt': 'mean',\n",
    "    'OPAnnualDeductibleAmt': 'mean'\n",
    "}).reset_index()"
   ]
  },
  {
   "cell_type": "code",
   "execution_count": 67,
   "id": "04473479-f8a0-4aa7-979b-0bb8987dd348",
   "metadata": {},
   "outputs": [],
   "source": [
    "# Rename columns for clarity\n",
    "agg_features.columns = [\n",
    "    'Provider', 'TotalClaims', 'TotalReimbursed', 'TotalDeductible', 'Avg_LOS',\n",
    "    'MostCommonGender', 'MostCommonRace',\n",
    "    'Avg_Diabetes', 'Avg_HeartFailure', 'Avg_Depression', 'Avg_IschemicHeart', 'Avg_Stroke',\n",
    "    'Avg_IP_Reimbursed', 'Avg_OP_Reimbursed', 'Avg_IP_Deductible', 'Avg_OP_Deductible'\n",
    "]\n"
   ]
  },
  {
   "cell_type": "code",
   "execution_count": 68,
   "id": "c9fcabd7-a3fe-46dd-a057-46636774c32e",
   "metadata": {},
   "outputs": [],
   "source": [
    "# Merge with Target Variable\n",
    "final_df = agg_features.merge(main_claim_df[['Provider', 'PotentialFraud']], on='Provider', how='inner')\n"
   ]
  },
  {
   "cell_type": "code",
   "execution_count": 69,
   "id": "56676dc4-00ef-4d8c-9697-f0171ae92c3c",
   "metadata": {},
   "outputs": [],
   "source": [
    "# Encode categorical variables\n",
    "le_gender = LabelEncoder()\n",
    "le_race = LabelEncoder()\n",
    "final_df['MostCommonGender'] = le_gender.fit_transform(final_df['MostCommonGender'].astype(str))\n",
    "final_df['MostCommonRace'] = le_race.fit_transform(final_df['MostCommonRace'].astype(str))\n",
    "final_df['FraudLabel'] = final_df['PotentialFraud'].map({'Yes': 1, 'No': 0})"
   ]
  },
  {
   "cell_type": "code",
   "execution_count": 70,
   "id": "3e428cd7-6238-4072-8ac7-b546fd2f1c6a",
   "metadata": {},
   "outputs": [],
   "source": [
    "#  Separate features and target\n",
    "X = final_df.drop(columns=['Provider', 'PotentialFraud', 'FraudLabel'])\n",
    "y = final_df['FraudLabel']"
   ]
  },
  {
   "cell_type": "code",
   "execution_count": 71,
   "id": "1d01da19-125b-46e6-9b44-ef2e2552be71",
   "metadata": {},
   "outputs": [
    {
     "name": "stdout",
     "output_type": "stream",
     "text": [
      "Feature engineering (provider-level) complete.\n",
      "Feature Matrix Shape: (5410, 15)\n"
     ]
    }
   ],
   "source": [
    "print(\"Feature engineering (provider-level) complete.\")\n",
    "print(\"Feature Matrix Shape:\", X.shape)"
   ]
  },
  {
   "cell_type": "code",
   "execution_count": 72,
   "id": "057fb7a3-d97b-4cd0-bcac-fa47c58a1287",
   "metadata": {},
   "outputs": [],
   "source": [
    "from xgboost import XGBClassifier\n",
    "from sklearn.preprocessing import StandardScaler\n",
    "from sklearn.model_selection import cross_val_score, StratifiedKFold\n",
    "from sklearn.pipeline import Pipeline\n",
    "import numpy as np"
   ]
  },
  {
   "cell_type": "code",
   "execution_count": 73,
   "id": "c51438f5-7ca9-44b7-93f7-2ba8c075e88b",
   "metadata": {},
   "outputs": [],
   "source": [
    "# Standardize features + build pipeline\n",
    "pipeline = Pipeline([\n",
    "    ('scaler', StandardScaler()),\n",
    "    ('xgb', XGBClassifier(n_estimators=300, max_depth=6, learning_rate=0.1, subsample=0.8, colsample_bytree=0.8, reg_lambda=1.0, reg_alpha=0.0, n_jobs=-1, random_state=42, tree_method=\"hist\", eval_metric=\"auc\"))\n",
    "])\n"
   ]
  },
  {
   "cell_type": "code",
   "execution_count": 74,
   "id": "3835981d-07d6-4619-9c44-6c67eb74ab92",
   "metadata": {},
   "outputs": [],
   "source": [
    "# Define cross-validation strategy\n",
    "cv = StratifiedKFold(n_splits=5, shuffle=True, random_state=42)"
   ]
  },
  {
   "cell_type": "code",
   "execution_count": 75,
   "id": "2236af01-8b77-4498-b0ee-b76967d380e8",
   "metadata": {},
   "outputs": [
    {
     "name": "stdout",
     "output_type": "stream",
     "text": [
      " Performing 5-Fold Cross-Validation...\n"
     ]
    }
   ],
   "source": [
    "# Cross-validation\n",
    "print(\" Performing 5-Fold Cross-Validation...\")\n",
    "scores = cross_val_score(pipeline, X, y, cv=cv, scoring='roc_auc')"
   ]
  },
  {
   "cell_type": "code",
   "execution_count": 76,
   "id": "38fbb8cc-4b20-4705-84d2-6993f448d968",
   "metadata": {},
   "outputs": [
    {
     "name": "stdout",
     "output_type": "stream",
     "text": [
      "\n",
      " XGBoost AUC Scores (5 folds): [0.9202 0.9115 0.9307 0.9275 0.9269]\n",
      "Mean AUC Score: 0.9233924321537741\n",
      " Standard Deviation: 0.0068465306307160054\n"
     ]
    }
   ],
   "source": [
    "# Output Results\n",
    "print(\"\\n XGBoost AUC Scores (5 folds):\", np.round(scores, 4))\n",
    "print(\"Mean AUC Score:\", scores.mean())\n",
    "print(\" Standard Deviation:\", scores.std())"
   ]
  },
  {
   "cell_type": "code",
   "execution_count": 77,
   "id": "5a63524d-47d7-4281-a432-b0f5e8908ba1",
   "metadata": {},
   "outputs": [],
   "source": [
    " # Model Training & Evaluation - XGBoost"
   ]
  },
  {
   "cell_type": "code",
   "execution_count": 78,
   "id": "007c2e4b-1e0a-4b5a-a726-7dd402a75eba",
   "metadata": {},
   "outputs": [
    {
     "name": "stdout",
     "output_type": "stream",
     "text": [
      "📄 Classification Report:\n",
      "\n",
      "              precision    recall  f1-score   support\n",
      "\n",
      "           0       0.95      0.98      0.96       981\n",
      "           1       0.70      0.53      0.61       101\n",
      "\n",
      "    accuracy                           0.94      1082\n",
      "   macro avg       0.83      0.76      0.79      1082\n",
      "weighted avg       0.93      0.94      0.93      1082\n",
      "\n"
     ]
    },
    {
     "data": {
      "image/png": "[encoded data removed]",
      "text/plain": [
       "<Figure size 640x480 with 2 Axes>"
      ]
     },
     "metadata": {},
     "output_type": "display_data"
    },
    {
     "name": "stdout",
     "output_type": "stream",
     "text": [
      "\n",
      " ROC AUC Score: 0.9402\n"
     ]
    },
    {
     "data": {
      "image/png": "[encoded data removed]",
      "text/plain": [
       "<Figure size 640x480 with 1 Axes>"
      ]
     },
     "metadata": {},
     "output_type": "display_data"
    }
   ],
   "source": [
    "from sklearn.metrics import (\n",
    "    classification_report, confusion_matrix, roc_auc_score, ConfusionMatrixDisplay, RocCurveDisplay\n",
    ")\n",
    "from sklearn.model_selection import train_test_split\n",
    "from sklearn.pipeline import Pipeline\n",
    "from sklearn.preprocessing import StandardScaler\n",
    "from xgboost import XGBClassifier\n",
    "import matplotlib.pyplot as plt\n",
    "\n",
    "# 1. Train-test split\n",
    "X_train, X_test, y_train, y_test = train_test_split(\n",
    "    X, y, test_size=0.2, stratify=y, random_state=42\n",
    ")\n",
    "\n",
    "# 2. Build pipeline (scaling + model)\n",
    "pipeline = Pipeline([\n",
    "    ('scaler', StandardScaler()),\n",
    "    ('xgb', XGBClassifier(n_estimators=300, max_depth=6, learning_rate=0.1, subsample=0.8, colsample_bytree=0.8, reg_lambda=1.0, reg_alpha=0.0, n_jobs=-1, random_state=42, tree_method=\"hist\", eval_metric=\"auc\"))\n",
    "])\n",
    "\n",
    "# 3. Train the model\n",
    "pipeline.fit(X_train, y_train)\n",
    "\n",
    "# 4. Predict\n",
    "y_pred = pipeline.predict(X_test)\n",
    "y_proba = pipeline.predict_proba(X_test)[:, 1]\n",
    "\n",
    "# 5. Classification Report\n",
    "print(\"📄 Classification Report:\\n\")\n",
    "print(classification_report(y_test, y_pred))\n",
    "\n",
    "# 6. Confusion Matrix\n",
    "cm = confusion_matrix(y_test, y_pred)\n",
    "disp = ConfusionMatrixDisplay(confusion_matrix=cm, display_labels=['No Fraud', 'Fraud'])\n",
    "disp.plot(cmap='Blues')\n",
    "plt.title(\"Confusion Matrix\")\n",
    "plt.grid(False)\n",
    "plt.show()\n",
    "\n",
    "# 7. ROC AUC Score and Curve\n",
    "auc = roc_auc_score(y_test, y_proba)\n",
    "print(f\"\\n ROC AUC Score: {auc:.4f}\")\n",
    "\n",
    "RocCurveDisplay.from_estimator(pipeline, X_test, y_test)\n",
    "plt.title(\"ROC Curve - XGBoost\")\n",
    "plt.grid(True)\n",
    "plt.show()\n"
   ]
  },
  {
   "cell_type": "code",
   "execution_count": 79,
   "id": "6bf2b97b",
   "metadata": {},
   "outputs": [],
   "source": [
    "# Handle class imbalance for XGBoost (similar to class_weight='balanced' in RF)\n",
    "# Compute scale_pos_weight = (negative / positive) on the training fold\n",
    "try:\n",
    "    import numpy as np\n",
    "    pos = (y_train == 1).sum() if hasattr(y_train, 'sum') else np.sum(y_train == 1)\n",
    "    neg = len(y_train) - pos\n",
    "    spw = float(neg) / float(max(pos, 1))\n",
    "    # Set into the pipeline's XGB step\n",
    "    if 'xgb' in pipeline.named_steps:\n",
    "        pipeline.set_params(xgb__scale_pos_weight=spw)\n",
    "except Exception as _e:\n",
    "    # If anything goes wrong, proceed without scale_pos_weight\n",
    "    pass\n"
   ]
  },
  {
   "cell_type": "code",
   "execution_count": 80,
   "id": "18585178-95db-428c-896f-b68dfa6e1f8f",
   "metadata": {},
   "outputs": [
    {
     "name": "stdout",
     "output_type": "stream",
     "text": [
      "\n",
      "🔍 Top 20 Important Features:\n",
      "\n",
      "          Feature  Importance\n",
      "  TotalReimbursed    0.397132\n",
      "  TotalDeductible    0.075733\n",
      "          Avg_LOS    0.053714\n",
      "      TotalClaims    0.052463\n",
      " Avg_HeartFailure    0.045750\n",
      "Avg_OP_Reimbursed    0.044528\n",
      "Avg_OP_Deductible    0.044490\n",
      "       Avg_Stroke    0.043815\n",
      "Avg_IP_Reimbursed    0.043407\n",
      "   Avg_Depression    0.042602\n",
      "Avg_IP_Deductible    0.042573\n",
      "Avg_IschemicHeart    0.040545\n",
      "     Avg_Diabetes    0.038636\n",
      " MostCommonGender    0.034613\n",
      "   MostCommonRace    0.000000\n"
     ]
    },
    {
     "data": {
      "image/png": "[encoded data removed]",
      "text/plain": [
       "<Figure size 1200x800 with 1 Axes>"
      ]
     },
     "metadata": {},
     "output_type": "display_data"
    }
   ],
   "source": [
    "# Get feature names — assuming X is a pandas DataFrame\n",
    "feature_names = X.columns if hasattr(X, 'columns') else [f'Feature {i}' for i in range(X.shape[1])]\n",
    "\n",
    "# Extract trained RandomForest model from pipeline\n",
    "xgb_model = pipeline.named_steps['xgb']\n",
    "importances = xgb_model.feature_importances_\n",
    "\n",
    "# Create DataFrame of features and their importance\n",
    "feat_imp_df = pd.DataFrame({\n",
    "    'Feature': feature_names,\n",
    "    'Importance': importances\n",
    "}).sort_values(by='Importance', ascending=False)\n",
    "\n",
    "# Display top 20 features\n",
    "print(\"\\n🔍 Top 20 Important Features:\\n\")\n",
    "print(feat_imp_df.head(20).to_string(index=False))\n",
    "\n",
    "# Plot top 20 feature importances\n",
    "plt.figure(figsize=(12, 8))\n",
    "plt.barh(feat_imp_df['Feature'].head(20), feat_imp_df['Importance'].head(20))\n",
    "plt.gca().invert_yaxis()\n",
    "plt.title(\"Top 20 Important Features - XGBoost\")\n",
    "plt.xlabel(\"Importance Score\")\n",
    "plt.tight_layout()\n",
    "plt.show()"
   ]
  },
  {
   "cell_type": "code",
   "execution_count": 81,
   "id": "ac6ac285-5f84-4e9a-975c-688b1f25622d",
   "metadata": {},
   "outputs": [],
   "source": [
    "# import joblib\n",
    "# import json\n",
    "# import sklearn\n",
    "# import platform\n",
    "# import time\n",
    "\n",
    "# # Save the pipeline\n",
    "# joblib.dump(pipeline, \"model.joblib\", compress=3)\n",
    "\n",
    "# # Save metadata\n",
    "# metadata = {\n",
    "#     \"model_type\": type(pipeline.named_steps['xgb']).__name__,\n",
    "#     \"sklearn_version\": sklearn.__version__,\n",
    "#     \"python_version\": platform.python_version(),\n",
    "#     \"created_at\": time.strftime(\"%Y-%m-%dT%H:%M:%SZ\", time.gmtime()),\n",
    "#     \"training_params\": pipeline.named_steps['xgb'].get_params(),\n",
    "#     \"features\": list(X.columns),  # replace X with your training DataFrame\n",
    "#     \"target\": \"PotentialFraud\"    # replace with your actual target\n",
    "# }\n",
    "\n",
    "# with open(\"model_metadata.json\", \"w\") as f:\n",
    "#     json.dump(metadata, f, indent=2)\n",
    "\n",
    "# print(\" Model and metadata saved: model.joblib, model_metadata.json\")\n"
   ]
  },
  {
   "cell_type": "code",
   "execution_count": null,
   "id": "79f60345-973a-40a5-89e2-905a161c3d3c",
   "metadata": {},
   "outputs": [],
   "source": []
  }
 ],
 "metadata": {
  "kernelspec": {
   "display_name": "Python 3 (ipykernel)",
   "language": "python",
   "name": "python3"
  },
  "language_info": {
   "codemirror_mode": {
    "name": "ipython",
    "version": 3
   },
   "file_extension": ".py",
   "mimetype": "text/x-python",
   "name": "python",
   "nbconvert_exporter": "python",
   "pygments_lexer": "ipython3",
   "version": "3.10.12"
  }
 },
 "nbformat": 4,
 "nbformat_minor": 5
}
